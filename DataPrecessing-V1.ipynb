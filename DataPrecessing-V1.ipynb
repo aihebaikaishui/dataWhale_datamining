{
 "cells": [
  {
   "cell_type": "markdown",
   "metadata": {},
   "source": [
    "## 缺失值问题\n",
    "- 描述\n",
    "- 判断\n",
    "- 处理"
   ]
  },
  {
   "cell_type": "markdown",
   "metadata": {},
   "source": [
    "## 读取并观察数据"
   ]
  },
  {
   "cell_type": "code",
   "execution_count": 1,
   "metadata": {},
   "outputs": [],
   "source": [
    "import numpy as np\n",
    "import pandas as pd\n",
    "import sklearn"
   ]
  },
  {
   "cell_type": "code",
   "execution_count": 5,
   "metadata": {},
   "outputs": [
    {
     "data": {
      "text/html": [
       "<div>\n",
       "<style scoped>\n",
       "    .dataframe tbody tr th:only-of-type {\n",
       "        vertical-align: middle;\n",
       "    }\n",
       "\n",
       "    .dataframe tbody tr th {\n",
       "        vertical-align: top;\n",
       "    }\n",
       "\n",
       "    .dataframe thead th {\n",
       "        text-align: right;\n",
       "    }\n",
       "</style>\n",
       "<table border=\"1\" class=\"dataframe\">\n",
       "  <thead>\n",
       "    <tr style=\"text-align: right;\">\n",
       "      <th></th>\n",
       "      <th>Unnamed: 0</th>\n",
       "      <th>custid</th>\n",
       "      <th>trade_no</th>\n",
       "      <th>bank_card_no</th>\n",
       "      <th>low_volume_percent</th>\n",
       "      <th>middle_volume_percent</th>\n",
       "      <th>take_amount_in_later_12_month_highest</th>\n",
       "      <th>trans_amount_increase_rate_lately</th>\n",
       "      <th>trans_activity_month</th>\n",
       "      <th>trans_activity_day</th>\n",
       "      <th>...</th>\n",
       "      <th>loans_max_limit</th>\n",
       "      <th>loans_avg_limit</th>\n",
       "      <th>consfin_credit_limit</th>\n",
       "      <th>consfin_credibility</th>\n",
       "      <th>consfin_org_count_current</th>\n",
       "      <th>consfin_product_count</th>\n",
       "      <th>consfin_max_limit</th>\n",
       "      <th>consfin_avg_limit</th>\n",
       "      <th>latest_query_day</th>\n",
       "      <th>loans_latest_day</th>\n",
       "    </tr>\n",
       "  </thead>\n",
       "  <tbody>\n",
       "    <tr>\n",
       "      <th>0</th>\n",
       "      <td>5</td>\n",
       "      <td>2791858</td>\n",
       "      <td>20180507115231274000000023057383</td>\n",
       "      <td>卡号1</td>\n",
       "      <td>0.01</td>\n",
       "      <td>0.99</td>\n",
       "      <td>0</td>\n",
       "      <td>0.90</td>\n",
       "      <td>0.55</td>\n",
       "      <td>0.313</td>\n",
       "      <td>...</td>\n",
       "      <td>2900.0</td>\n",
       "      <td>1688.0</td>\n",
       "      <td>1200.0</td>\n",
       "      <td>75.0</td>\n",
       "      <td>1.0</td>\n",
       "      <td>2.0</td>\n",
       "      <td>1200.0</td>\n",
       "      <td>1200.0</td>\n",
       "      <td>12.0</td>\n",
       "      <td>18.0</td>\n",
       "    </tr>\n",
       "    <tr>\n",
       "      <th>1</th>\n",
       "      <td>10</td>\n",
       "      <td>534047</td>\n",
       "      <td>20180507121002192000000023073000</td>\n",
       "      <td>卡号1</td>\n",
       "      <td>0.02</td>\n",
       "      <td>0.94</td>\n",
       "      <td>2000</td>\n",
       "      <td>1.28</td>\n",
       "      <td>1.00</td>\n",
       "      <td>0.458</td>\n",
       "      <td>...</td>\n",
       "      <td>3500.0</td>\n",
       "      <td>1758.0</td>\n",
       "      <td>15100.0</td>\n",
       "      <td>80.0</td>\n",
       "      <td>5.0</td>\n",
       "      <td>6.0</td>\n",
       "      <td>22800.0</td>\n",
       "      <td>9360.0</td>\n",
       "      <td>4.0</td>\n",
       "      <td>2.0</td>\n",
       "    </tr>\n",
       "    <tr>\n",
       "      <th>2</th>\n",
       "      <td>12</td>\n",
       "      <td>2849787</td>\n",
       "      <td>20180507125159718000000023114911</td>\n",
       "      <td>卡号1</td>\n",
       "      <td>0.04</td>\n",
       "      <td>0.96</td>\n",
       "      <td>0</td>\n",
       "      <td>1.00</td>\n",
       "      <td>1.00</td>\n",
       "      <td>0.114</td>\n",
       "      <td>...</td>\n",
       "      <td>1600.0</td>\n",
       "      <td>1250.0</td>\n",
       "      <td>4200.0</td>\n",
       "      <td>87.0</td>\n",
       "      <td>1.0</td>\n",
       "      <td>1.0</td>\n",
       "      <td>4200.0</td>\n",
       "      <td>4200.0</td>\n",
       "      <td>2.0</td>\n",
       "      <td>6.0</td>\n",
       "    </tr>\n",
       "    <tr>\n",
       "      <th>3</th>\n",
       "      <td>13</td>\n",
       "      <td>1809708</td>\n",
       "      <td>20180507121358683000000388283484</td>\n",
       "      <td>卡号1</td>\n",
       "      <td>0.00</td>\n",
       "      <td>0.96</td>\n",
       "      <td>2000</td>\n",
       "      <td>0.13</td>\n",
       "      <td>0.57</td>\n",
       "      <td>0.777</td>\n",
       "      <td>...</td>\n",
       "      <td>3200.0</td>\n",
       "      <td>1541.0</td>\n",
       "      <td>16300.0</td>\n",
       "      <td>80.0</td>\n",
       "      <td>5.0</td>\n",
       "      <td>5.0</td>\n",
       "      <td>30000.0</td>\n",
       "      <td>12180.0</td>\n",
       "      <td>2.0</td>\n",
       "      <td>4.0</td>\n",
       "    </tr>\n",
       "    <tr>\n",
       "      <th>4</th>\n",
       "      <td>14</td>\n",
       "      <td>2499829</td>\n",
       "      <td>20180507115448545000000388205844</td>\n",
       "      <td>卡号1</td>\n",
       "      <td>0.01</td>\n",
       "      <td>0.99</td>\n",
       "      <td>0</td>\n",
       "      <td>0.46</td>\n",
       "      <td>1.00</td>\n",
       "      <td>0.175</td>\n",
       "      <td>...</td>\n",
       "      <td>2300.0</td>\n",
       "      <td>1630.0</td>\n",
       "      <td>8300.0</td>\n",
       "      <td>79.0</td>\n",
       "      <td>2.0</td>\n",
       "      <td>2.0</td>\n",
       "      <td>8400.0</td>\n",
       "      <td>8250.0</td>\n",
       "      <td>22.0</td>\n",
       "      <td>120.0</td>\n",
       "    </tr>\n",
       "  </tbody>\n",
       "</table>\n",
       "<p>5 rows × 90 columns</p>\n",
       "</div>"
      ],
      "text/plain": [
       "   Unnamed: 0   custid                          trade_no bank_card_no  \\\n",
       "0           5  2791858  20180507115231274000000023057383          卡号1   \n",
       "1          10   534047  20180507121002192000000023073000          卡号1   \n",
       "2          12  2849787  20180507125159718000000023114911          卡号1   \n",
       "3          13  1809708  20180507121358683000000388283484          卡号1   \n",
       "4          14  2499829  20180507115448545000000388205844          卡号1   \n",
       "\n",
       "   low_volume_percent  middle_volume_percent  \\\n",
       "0                0.01                   0.99   \n",
       "1                0.02                   0.94   \n",
       "2                0.04                   0.96   \n",
       "3                0.00                   0.96   \n",
       "4                0.01                   0.99   \n",
       "\n",
       "   take_amount_in_later_12_month_highest  trans_amount_increase_rate_lately  \\\n",
       "0                                      0                               0.90   \n",
       "1                                   2000                               1.28   \n",
       "2                                      0                               1.00   \n",
       "3                                   2000                               0.13   \n",
       "4                                      0                               0.46   \n",
       "\n",
       "   trans_activity_month  trans_activity_day  ...  loans_max_limit  \\\n",
       "0                  0.55               0.313  ...           2900.0   \n",
       "1                  1.00               0.458  ...           3500.0   \n",
       "2                  1.00               0.114  ...           1600.0   \n",
       "3                  0.57               0.777  ...           3200.0   \n",
       "4                  1.00               0.175  ...           2300.0   \n",
       "\n",
       "   loans_avg_limit  consfin_credit_limit  consfin_credibility  \\\n",
       "0           1688.0                1200.0                 75.0   \n",
       "1           1758.0               15100.0                 80.0   \n",
       "2           1250.0                4200.0                 87.0   \n",
       "3           1541.0               16300.0                 80.0   \n",
       "4           1630.0                8300.0                 79.0   \n",
       "\n",
       "   consfin_org_count_current  consfin_product_count  consfin_max_limit  \\\n",
       "0                        1.0                    2.0             1200.0   \n",
       "1                        5.0                    6.0            22800.0   \n",
       "2                        1.0                    1.0             4200.0   \n",
       "3                        5.0                    5.0            30000.0   \n",
       "4                        2.0                    2.0             8400.0   \n",
       "\n",
       "   consfin_avg_limit  latest_query_day  loans_latest_day  \n",
       "0             1200.0              12.0              18.0  \n",
       "1             9360.0               4.0               2.0  \n",
       "2             4200.0               2.0               6.0  \n",
       "3            12180.0               2.0               4.0  \n",
       "4             8250.0              22.0             120.0  \n",
       "\n",
       "[5 rows x 90 columns]"
      ]
     },
     "execution_count": 5,
     "metadata": {},
     "output_type": "execute_result"
    }
   ],
   "source": [
    "data_orig = pd.read_csv(r\"./data.csv\",encoding = 'gb18030'\n",
    "                       #,index_col = 0\n",
    "                       )   #读取文件\n",
    "data_orig.head()    #观察一下前5行"
   ]
  },
  {
   "cell_type": "code",
   "execution_count": 6,
   "metadata": {},
   "outputs": [
    {
     "data": {
      "text/plain": [
       "0    1\n",
       "1    0\n",
       "2    1\n",
       "3    0\n",
       "4    1\n",
       "Name: status, dtype: int64"
      ]
     },
     "execution_count": 6,
     "metadata": {},
     "output_type": "execute_result"
    }
   ],
   "source": [
    "data_orig['status'][:5]  #观察一下结果标签"
   ]
  },
  {
   "cell_type": "code",
   "execution_count": 7,
   "metadata": {},
   "outputs": [
    {
     "name": "stdout",
     "output_type": "stream",
     "text": [
      "<class 'pandas.core.frame.DataFrame'>\n",
      "RangeIndex: 4754 entries, 0 to 4753\n",
      "Data columns (total 90 columns):\n",
      "Unnamed: 0                                    4754 non-null int64\n",
      "custid                                        4754 non-null int64\n",
      "trade_no                                      4754 non-null object\n",
      "bank_card_no                                  4754 non-null object\n",
      "low_volume_percent                            4752 non-null float64\n",
      "middle_volume_percent                         4752 non-null float64\n",
      "take_amount_in_later_12_month_highest         4754 non-null int64\n",
      "trans_amount_increase_rate_lately             4751 non-null float64\n",
      "trans_activity_month                          4752 non-null float64\n",
      "trans_activity_day                            4752 non-null float64\n",
      "transd_mcc                                    4752 non-null float64\n",
      "trans_days_interval_filter                    4746 non-null float64\n",
      "trans_days_interval                           4752 non-null float64\n",
      "regional_mobility                             4752 non-null float64\n",
      "student_feature                               1756 non-null float64\n",
      "repayment_capability                          4754 non-null int64\n",
      "is_high_user                                  4754 non-null int64\n",
      "number_of_trans_from_2011                     4752 non-null float64\n",
      "first_transaction_time                        4752 non-null float64\n",
      "historical_trans_amount                       4754 non-null int64\n",
      "historical_trans_day                          4752 non-null float64\n",
      "rank_trad_1_month                             4752 non-null float64\n",
      "trans_amount_3_month                          4754 non-null int64\n",
      "avg_consume_less_12_valid_month               4752 non-null float64\n",
      "abs                                           4754 non-null int64\n",
      "top_trans_count_last_1_month                  4752 non-null float64\n",
      "avg_price_last_12_month                       4754 non-null int64\n",
      "avg_price_top_last_12_valid_month             4650 non-null float64\n",
      "reg_preference_for_trad                       4752 non-null object\n",
      "trans_top_time_last_1_month                   4746 non-null float64\n",
      "trans_top_time_last_6_month                   4746 non-null float64\n",
      "consume_top_time_last_1_month                 4746 non-null float64\n",
      "consume_top_time_last_6_month                 4746 non-null float64\n",
      "cross_consume_count_last_1_month              4328 non-null float64\n",
      "trans_fail_top_count_enum_last_1_month        4738 non-null float64\n",
      "trans_fail_top_count_enum_last_6_month        4738 non-null float64\n",
      "trans_fail_top_count_enum_last_12_month       4738 non-null float64\n",
      "consume_mini_time_last_1_month                4728 non-null float64\n",
      "max_cumulative_consume_later_1_month          4754 non-null int64\n",
      "max_consume_count_later_6_month               4746 non-null float64\n",
      "railway_consume_count_last_12_month           4742 non-null float64\n",
      "pawns_auctions_trusts_consume_last_1_month    4754 non-null int64\n",
      "pawns_auctions_trusts_consume_last_6_month    4754 non-null int64\n",
      "jewelry_consume_count_last_6_month            4742 non-null float64\n",
      "status                                        4754 non-null int64\n",
      "source                                        4754 non-null object\n",
      "first_transaction_day                         4752 non-null float64\n",
      "trans_day_last_12_month                       4752 non-null float64\n",
      "id_name                                       4478 non-null object\n",
      "apply_score                                   4450 non-null float64\n",
      "apply_credibility                             4450 non-null float64\n",
      "query_org_count                               4450 non-null float64\n",
      "query_finance_count                           4450 non-null float64\n",
      "query_cash_count                              4450 non-null float64\n",
      "query_sum_count                               4450 non-null float64\n",
      "latest_query_time                             4450 non-null object\n",
      "latest_one_month_apply                        4450 non-null float64\n",
      "latest_three_month_apply                      4450 non-null float64\n",
      "latest_six_month_apply                        4450 non-null float64\n",
      "loans_score                                   4457 non-null float64\n",
      "loans_credibility_behavior                    4457 non-null float64\n",
      "loans_count                                   4457 non-null float64\n",
      "loans_settle_count                            4457 non-null float64\n",
      "loans_overdue_count                           4457 non-null float64\n",
      "loans_org_count_behavior                      4457 non-null float64\n",
      "consfin_org_count_behavior                    4457 non-null float64\n",
      "loans_cash_count                              4457 non-null float64\n",
      "latest_one_month_loan                         4457 non-null float64\n",
      "latest_three_month_loan                       4457 non-null float64\n",
      "latest_six_month_loan                         4457 non-null float64\n",
      "history_suc_fee                               4457 non-null float64\n",
      "history_fail_fee                              4457 non-null float64\n",
      "latest_one_month_suc                          4457 non-null float64\n",
      "latest_one_month_fail                         4457 non-null float64\n",
      "loans_long_time                               4457 non-null float64\n",
      "loans_latest_time                             4457 non-null object\n",
      "loans_credit_limit                            4457 non-null float64\n",
      "loans_credibility_limit                       4457 non-null float64\n",
      "loans_org_count_current                       4457 non-null float64\n",
      "loans_product_count                           4457 non-null float64\n",
      "loans_max_limit                               4457 non-null float64\n",
      "loans_avg_limit                               4457 non-null float64\n",
      "consfin_credit_limit                          4457 non-null float64\n",
      "consfin_credibility                           4457 non-null float64\n",
      "consfin_org_count_current                     4457 non-null float64\n",
      "consfin_product_count                         4457 non-null float64\n",
      "consfin_max_limit                             4457 non-null float64\n",
      "consfin_avg_limit                             4457 non-null float64\n",
      "latest_query_day                              4450 non-null float64\n",
      "loans_latest_day                              4457 non-null float64\n",
      "dtypes: float64(70), int64(13), object(7)\n",
      "memory usage: 3.3+ MB\n"
     ]
    }
   ],
   "source": [
    "data_orig.info()"
   ]
  },
  {
   "cell_type": "markdown",
   "metadata": {},
   "source": [
    "### 数据集特征：\n",
    "- index没有从0开始，也不连续。reindex一下\n",
    "- 规模4754*90. 样本量4754, 原始特征90\n",
    "- 数值型特征70(float64) + 13(int64) , 非数值型 7个\n",
    "- 缺失值：比较明显的就一个student_feature，直接dropna\n",
    "- 其余特征大部分在若干样本上isnull,若干的范围在300以内，所以含有nan的行全部删除试试"
   ]
  },
  {
   "cell_type": "markdown",
   "metadata": {},
   "source": [
    "## 缺失值处理"
   ]
  },
  {
   "cell_type": "code",
   "execution_count": 8,
   "metadata": {},
   "outputs": [
    {
     "data": {
      "text/plain": [
       "0     NaN\n",
       "1     1.0\n",
       "2     NaN\n",
       "3     NaN\n",
       "4     NaN\n",
       "5     1.0\n",
       "6     NaN\n",
       "7     NaN\n",
       "8     NaN\n",
       "9     1.0\n",
       "10    NaN\n",
       "Name: student_feature, dtype: float64"
      ]
     },
     "execution_count": 8,
     "metadata": {},
     "output_type": "execute_result"
    }
   ],
   "source": [
    "data_orig.loc[:10,'student_feature']"
   ]
  },
  {
   "cell_type": "code",
   "execution_count": 12,
   "metadata": {},
   "outputs": [],
   "source": [
    "data = data_orig.dropna(axis=1,thresh=4000) #去掉了student_feature这一特征后的DF为data"
   ]
  },
  {
   "cell_type": "code",
   "execution_count": 15,
   "metadata": {},
   "outputs": [
    {
     "name": "stdout",
     "output_type": "stream",
     "text": [
      "<class 'pandas.core.frame.DataFrame'>\n",
      "Int64Index: 3983 entries, 0 to 4753\n",
      "Data columns (total 89 columns):\n",
      "Unnamed: 0                                    3983 non-null int64\n",
      "custid                                        3983 non-null int64\n",
      "trade_no                                      3983 non-null object\n",
      "bank_card_no                                  3983 non-null object\n",
      "low_volume_percent                            3983 non-null float64\n",
      "middle_volume_percent                         3983 non-null float64\n",
      "take_amount_in_later_12_month_highest         3983 non-null int64\n",
      "trans_amount_increase_rate_lately             3983 non-null float64\n",
      "trans_activity_month                          3983 non-null float64\n",
      "trans_activity_day                            3983 non-null float64\n",
      "transd_mcc                                    3983 non-null float64\n",
      "trans_days_interval_filter                    3983 non-null float64\n",
      "trans_days_interval                           3983 non-null float64\n",
      "regional_mobility                             3983 non-null float64\n",
      "repayment_capability                          3983 non-null int64\n",
      "is_high_user                                  3983 non-null int64\n",
      "number_of_trans_from_2011                     3983 non-null float64\n",
      "first_transaction_time                        3983 non-null float64\n",
      "historical_trans_amount                       3983 non-null int64\n",
      "historical_trans_day                          3983 non-null float64\n",
      "rank_trad_1_month                             3983 non-null float64\n",
      "trans_amount_3_month                          3983 non-null int64\n",
      "avg_consume_less_12_valid_month               3983 non-null float64\n",
      "abs                                           3983 non-null int64\n",
      "top_trans_count_last_1_month                  3983 non-null float64\n",
      "avg_price_last_12_month                       3983 non-null int64\n",
      "avg_price_top_last_12_valid_month             3983 non-null float64\n",
      "reg_preference_for_trad                       3983 non-null object\n",
      "trans_top_time_last_1_month                   3983 non-null float64\n",
      "trans_top_time_last_6_month                   3983 non-null float64\n",
      "consume_top_time_last_1_month                 3983 non-null float64\n",
      "consume_top_time_last_6_month                 3983 non-null float64\n",
      "cross_consume_count_last_1_month              3983 non-null float64\n",
      "trans_fail_top_count_enum_last_1_month        3983 non-null float64\n",
      "trans_fail_top_count_enum_last_6_month        3983 non-null float64\n",
      "trans_fail_top_count_enum_last_12_month       3983 non-null float64\n",
      "consume_mini_time_last_1_month                3983 non-null float64\n",
      "max_cumulative_consume_later_1_month          3983 non-null int64\n",
      "max_consume_count_later_6_month               3983 non-null float64\n",
      "railway_consume_count_last_12_month           3983 non-null float64\n",
      "pawns_auctions_trusts_consume_last_1_month    3983 non-null int64\n",
      "pawns_auctions_trusts_consume_last_6_month    3983 non-null int64\n",
      "jewelry_consume_count_last_6_month            3983 non-null float64\n",
      "status                                        3983 non-null int64\n",
      "source                                        3983 non-null object\n",
      "first_transaction_day                         3983 non-null float64\n",
      "trans_day_last_12_month                       3983 non-null float64\n",
      "id_name                                       3983 non-null object\n",
      "apply_score                                   3983 non-null float64\n",
      "apply_credibility                             3983 non-null float64\n",
      "query_org_count                               3983 non-null float64\n",
      "query_finance_count                           3983 non-null float64\n",
      "query_cash_count                              3983 non-null float64\n",
      "query_sum_count                               3983 non-null float64\n",
      "latest_query_time                             3983 non-null object\n",
      "latest_one_month_apply                        3983 non-null float64\n",
      "latest_three_month_apply                      3983 non-null float64\n",
      "latest_six_month_apply                        3983 non-null float64\n",
      "loans_score                                   3983 non-null float64\n",
      "loans_credibility_behavior                    3983 non-null float64\n",
      "loans_count                                   3983 non-null float64\n",
      "loans_settle_count                            3983 non-null float64\n",
      "loans_overdue_count                           3983 non-null float64\n",
      "loans_org_count_behavior                      3983 non-null float64\n",
      "consfin_org_count_behavior                    3983 non-null float64\n",
      "loans_cash_count                              3983 non-null float64\n",
      "latest_one_month_loan                         3983 non-null float64\n",
      "latest_three_month_loan                       3983 non-null float64\n",
      "latest_six_month_loan                         3983 non-null float64\n",
      "history_suc_fee                               3983 non-null float64\n",
      "history_fail_fee                              3983 non-null float64\n",
      "latest_one_month_suc                          3983 non-null float64\n",
      "latest_one_month_fail                         3983 non-null float64\n",
      "loans_long_time                               3983 non-null float64\n",
      "loans_latest_time                             3983 non-null object\n",
      "loans_credit_limit                            3983 non-null float64\n",
      "loans_credibility_limit                       3983 non-null float64\n",
      "loans_org_count_current                       3983 non-null float64\n",
      "loans_product_count                           3983 non-null float64\n",
      "loans_max_limit                               3983 non-null float64\n",
      "loans_avg_limit                               3983 non-null float64\n",
      "consfin_credit_limit                          3983 non-null float64\n",
      "consfin_credibility                           3983 non-null float64\n",
      "consfin_org_count_current                     3983 non-null float64\n",
      "consfin_product_count                         3983 non-null float64\n",
      "consfin_max_limit                             3983 non-null float64\n",
      "consfin_avg_limit                             3983 non-null float64\n",
      "latest_query_day                              3983 non-null float64\n",
      "loans_latest_day                              3983 non-null float64\n",
      "dtypes: float64(69), int64(13), object(7)\n",
      "memory usage: 2.7+ MB\n"
     ]
    },
    {
     "name": "stderr",
     "output_type": "stream",
     "text": [
      "D:\\anaconda\\lib\\site-packages\\ipykernel_launcher.py:1: SettingWithCopyWarning: \n",
      "A value is trying to be set on a copy of a slice from a DataFrame\n",
      "\n",
      "See the caveats in the documentation: http://pandas.pydata.org/pandas-docs/stable/indexing.html#indexing-view-versus-copy\n",
      "  \"\"\"Entry point for launching an IPython kernel.\n"
     ]
    }
   ],
   "source": [
    "data.dropna(axis=0,inplace=True)  #只要有NA的行就去掉\n",
    "data.info()"
   ]
  },
  {
   "cell_type": "code",
   "execution_count": 16,
   "metadata": {},
   "outputs": [
    {
     "data": {
      "text/html": [
       "<div>\n",
       "<style scoped>\n",
       "    .dataframe tbody tr th:only-of-type {\n",
       "        vertical-align: middle;\n",
       "    }\n",
       "\n",
       "    .dataframe tbody tr th {\n",
       "        vertical-align: top;\n",
       "    }\n",
       "\n",
       "    .dataframe thead th {\n",
       "        text-align: right;\n",
       "    }\n",
       "</style>\n",
       "<table border=\"1\" class=\"dataframe\">\n",
       "  <thead>\n",
       "    <tr style=\"text-align: right;\">\n",
       "      <th></th>\n",
       "      <th>Unnamed: 0</th>\n",
       "      <th>custid</th>\n",
       "      <th>low_volume_percent</th>\n",
       "      <th>middle_volume_percent</th>\n",
       "      <th>take_amount_in_later_12_month_highest</th>\n",
       "      <th>trans_amount_increase_rate_lately</th>\n",
       "      <th>trans_activity_month</th>\n",
       "      <th>trans_activity_day</th>\n",
       "      <th>transd_mcc</th>\n",
       "      <th>trans_days_interval_filter</th>\n",
       "      <th>...</th>\n",
       "      <th>loans_max_limit</th>\n",
       "      <th>loans_avg_limit</th>\n",
       "      <th>consfin_credit_limit</th>\n",
       "      <th>consfin_credibility</th>\n",
       "      <th>consfin_org_count_current</th>\n",
       "      <th>consfin_product_count</th>\n",
       "      <th>consfin_max_limit</th>\n",
       "      <th>consfin_avg_limit</th>\n",
       "      <th>latest_query_day</th>\n",
       "      <th>loans_latest_day</th>\n",
       "    </tr>\n",
       "  </thead>\n",
       "  <tbody>\n",
       "    <tr>\n",
       "      <th>count</th>\n",
       "      <td>3983.000000</td>\n",
       "      <td>3.983000e+03</td>\n",
       "      <td>3983.000000</td>\n",
       "      <td>3983.000000</td>\n",
       "      <td>3983.000000</td>\n",
       "      <td>3983.000000</td>\n",
       "      <td>3983.000000</td>\n",
       "      <td>3983.000000</td>\n",
       "      <td>3983.000000</td>\n",
       "      <td>3983.000000</td>\n",
       "      <td>...</td>\n",
       "      <td>3983.000000</td>\n",
       "      <td>3983.000000</td>\n",
       "      <td>3983.00000</td>\n",
       "      <td>3983.000000</td>\n",
       "      <td>3983.000000</td>\n",
       "      <td>3983.000000</td>\n",
       "      <td>3983.000000</td>\n",
       "      <td>3983.000000</td>\n",
       "      <td>3983.000000</td>\n",
       "      <td>3983.000000</td>\n",
       "    </tr>\n",
       "    <tr>\n",
       "      <th>mean</th>\n",
       "      <td>5978.966106</td>\n",
       "      <td>1.680845e+06</td>\n",
       "      <td>0.019982</td>\n",
       "      <td>0.904783</td>\n",
       "      <td>2019.093648</td>\n",
       "      <td>4.378511</td>\n",
       "      <td>0.806465</td>\n",
       "      <td>0.388897</td>\n",
       "      <td>18.207381</td>\n",
       "      <td>26.118755</td>\n",
       "      <td>...</td>\n",
       "      <td>3481.621893</td>\n",
       "      <td>1842.186292</td>\n",
       "      <td>9325.05649</td>\n",
       "      <td>76.685413</td>\n",
       "      <td>4.953050</td>\n",
       "      <td>5.473763</td>\n",
       "      <td>16614.838062</td>\n",
       "      <td>8082.725082</td>\n",
       "      <td>23.431835</td>\n",
       "      <td>52.370073</td>\n",
       "    </tr>\n",
       "    <tr>\n",
       "      <th>std</th>\n",
       "      <td>3437.230356</td>\n",
       "      <td>1.032941e+06</td>\n",
       "      <td>0.026783</td>\n",
       "      <td>0.132394</td>\n",
       "      <td>4047.801495</td>\n",
       "      <td>78.108940</td>\n",
       "      <td>0.194997</td>\n",
       "      <td>0.163907</td>\n",
       "      <td>4.117520</td>\n",
       "      <td>17.958326</td>\n",
       "      <td>...</td>\n",
       "      <td>1419.273829</td>\n",
       "      <td>537.812515</td>\n",
       "      <td>7282.72002</td>\n",
       "      <td>12.806453</td>\n",
       "      <td>2.963372</td>\n",
       "      <td>3.401296</td>\n",
       "      <td>14480.490287</td>\n",
       "      <td>5601.708872</td>\n",
       "      <td>37.416001</td>\n",
       "      <td>51.011847</td>\n",
       "    </tr>\n",
       "    <tr>\n",
       "      <th>min</th>\n",
       "      <td>5.000000</td>\n",
       "      <td>1.140000e+02</td>\n",
       "      <td>0.000000</td>\n",
       "      <td>0.050000</td>\n",
       "      <td>0.000000</td>\n",
       "      <td>0.000000</td>\n",
       "      <td>0.230000</td>\n",
       "      <td>0.051000</td>\n",
       "      <td>5.000000</td>\n",
       "      <td>5.000000</td>\n",
       "      <td>...</td>\n",
       "      <td>0.000000</td>\n",
       "      <td>0.000000</td>\n",
       "      <td>0.00000</td>\n",
       "      <td>0.000000</td>\n",
       "      <td>0.000000</td>\n",
       "      <td>0.000000</td>\n",
       "      <td>0.000000</td>\n",
       "      <td>0.000000</td>\n",
       "      <td>-2.000000</td>\n",
       "      <td>-2.000000</td>\n",
       "    </tr>\n",
       "    <tr>\n",
       "      <th>25%</th>\n",
       "      <td>3082.000000</td>\n",
       "      <td>7.510880e+05</td>\n",
       "      <td>0.010000</td>\n",
       "      <td>0.880000</td>\n",
       "      <td>0.000000</td>\n",
       "      <td>0.610000</td>\n",
       "      <td>0.670000</td>\n",
       "      <td>0.263000</td>\n",
       "      <td>16.000000</td>\n",
       "      <td>15.000000</td>\n",
       "      <td>...</td>\n",
       "      <td>2500.000000</td>\n",
       "      <td>1566.000000</td>\n",
       "      <td>5000.00000</td>\n",
       "      <td>77.000000</td>\n",
       "      <td>3.000000</td>\n",
       "      <td>3.000000</td>\n",
       "      <td>7800.000000</td>\n",
       "      <td>4800.000000</td>\n",
       "      <td>5.000000</td>\n",
       "      <td>9.000000</td>\n",
       "    </tr>\n",
       "    <tr>\n",
       "      <th>50%</th>\n",
       "      <td>5970.000000</td>\n",
       "      <td>1.620145e+06</td>\n",
       "      <td>0.010000</td>\n",
       "      <td>0.960000</td>\n",
       "      <td>600.000000</td>\n",
       "      <td>0.960000</td>\n",
       "      <td>0.860000</td>\n",
       "      <td>0.375000</td>\n",
       "      <td>18.000000</td>\n",
       "      <td>22.000000</td>\n",
       "      <td>...</td>\n",
       "      <td>3300.000000</td>\n",
       "      <td>1820.000000</td>\n",
       "      <td>7800.00000</td>\n",
       "      <td>79.000000</td>\n",
       "      <td>5.000000</td>\n",
       "      <td>5.000000</td>\n",
       "      <td>14400.000000</td>\n",
       "      <td>7100.000000</td>\n",
       "      <td>14.000000</td>\n",
       "      <td>33.000000</td>\n",
       "    </tr>\n",
       "    <tr>\n",
       "      <th>75%</th>\n",
       "      <td>8963.500000</td>\n",
       "      <td>2.560038e+06</td>\n",
       "      <td>0.020000</td>\n",
       "      <td>0.990000</td>\n",
       "      <td>2000.000000</td>\n",
       "      <td>1.580000</td>\n",
       "      <td>1.000000</td>\n",
       "      <td>0.497000</td>\n",
       "      <td>20.000000</td>\n",
       "      <td>31.000000</td>\n",
       "      <td>...</td>\n",
       "      <td>4400.000000</td>\n",
       "      <td>2100.000000</td>\n",
       "      <td>11800.00000</td>\n",
       "      <td>80.000000</td>\n",
       "      <td>7.000000</td>\n",
       "      <td>8.000000</td>\n",
       "      <td>20400.000000</td>\n",
       "      <td>9937.500000</td>\n",
       "      <td>23.000000</td>\n",
       "      <td>87.000000</td>\n",
       "    </tr>\n",
       "    <tr>\n",
       "      <th>max</th>\n",
       "      <td>11992.000000</td>\n",
       "      <td>4.004694e+06</td>\n",
       "      <td>0.340000</td>\n",
       "      <td>1.000000</td>\n",
       "      <td>68000.000000</td>\n",
       "      <td>4677.980000</td>\n",
       "      <td>1.000000</td>\n",
       "      <td>0.941000</td>\n",
       "      <td>42.000000</td>\n",
       "      <td>229.000000</td>\n",
       "      <td>...</td>\n",
       "      <td>10000.000000</td>\n",
       "      <td>6900.000000</td>\n",
       "      <td>87100.00000</td>\n",
       "      <td>87.000000</td>\n",
       "      <td>18.000000</td>\n",
       "      <td>20.000000</td>\n",
       "      <td>266400.000000</td>\n",
       "      <td>82800.000000</td>\n",
       "      <td>360.000000</td>\n",
       "      <td>323.000000</td>\n",
       "    </tr>\n",
       "  </tbody>\n",
       "</table>\n",
       "<p>8 rows × 82 columns</p>\n",
       "</div>"
      ],
      "text/plain": [
       "         Unnamed: 0        custid  low_volume_percent  middle_volume_percent  \\\n",
       "count   3983.000000  3.983000e+03         3983.000000            3983.000000   \n",
       "mean    5978.966106  1.680845e+06            0.019982               0.904783   \n",
       "std     3437.230356  1.032941e+06            0.026783               0.132394   \n",
       "min        5.000000  1.140000e+02            0.000000               0.050000   \n",
       "25%     3082.000000  7.510880e+05            0.010000               0.880000   \n",
       "50%     5970.000000  1.620145e+06            0.010000               0.960000   \n",
       "75%     8963.500000  2.560038e+06            0.020000               0.990000   \n",
       "max    11992.000000  4.004694e+06            0.340000               1.000000   \n",
       "\n",
       "       take_amount_in_later_12_month_highest  \\\n",
       "count                            3983.000000   \n",
       "mean                             2019.093648   \n",
       "std                              4047.801495   \n",
       "min                                 0.000000   \n",
       "25%                                 0.000000   \n",
       "50%                               600.000000   \n",
       "75%                              2000.000000   \n",
       "max                             68000.000000   \n",
       "\n",
       "       trans_amount_increase_rate_lately  trans_activity_month  \\\n",
       "count                        3983.000000           3983.000000   \n",
       "mean                            4.378511              0.806465   \n",
       "std                            78.108940              0.194997   \n",
       "min                             0.000000              0.230000   \n",
       "25%                             0.610000              0.670000   \n",
       "50%                             0.960000              0.860000   \n",
       "75%                             1.580000              1.000000   \n",
       "max                          4677.980000              1.000000   \n",
       "\n",
       "       trans_activity_day   transd_mcc  trans_days_interval_filter  ...  \\\n",
       "count         3983.000000  3983.000000                 3983.000000  ...   \n",
       "mean             0.388897    18.207381                   26.118755  ...   \n",
       "std              0.163907     4.117520                   17.958326  ...   \n",
       "min              0.051000     5.000000                    5.000000  ...   \n",
       "25%              0.263000    16.000000                   15.000000  ...   \n",
       "50%              0.375000    18.000000                   22.000000  ...   \n",
       "75%              0.497000    20.000000                   31.000000  ...   \n",
       "max              0.941000    42.000000                  229.000000  ...   \n",
       "\n",
       "       loans_max_limit  loans_avg_limit  consfin_credit_limit  \\\n",
       "count      3983.000000      3983.000000            3983.00000   \n",
       "mean       3481.621893      1842.186292            9325.05649   \n",
       "std        1419.273829       537.812515            7282.72002   \n",
       "min           0.000000         0.000000               0.00000   \n",
       "25%        2500.000000      1566.000000            5000.00000   \n",
       "50%        3300.000000      1820.000000            7800.00000   \n",
       "75%        4400.000000      2100.000000           11800.00000   \n",
       "max       10000.000000      6900.000000           87100.00000   \n",
       "\n",
       "       consfin_credibility  consfin_org_count_current  consfin_product_count  \\\n",
       "count          3983.000000                3983.000000            3983.000000   \n",
       "mean             76.685413                   4.953050               5.473763   \n",
       "std              12.806453                   2.963372               3.401296   \n",
       "min               0.000000                   0.000000               0.000000   \n",
       "25%              77.000000                   3.000000               3.000000   \n",
       "50%              79.000000                   5.000000               5.000000   \n",
       "75%              80.000000                   7.000000               8.000000   \n",
       "max              87.000000                  18.000000              20.000000   \n",
       "\n",
       "       consfin_max_limit  consfin_avg_limit  latest_query_day  \\\n",
       "count        3983.000000        3983.000000       3983.000000   \n",
       "mean        16614.838062        8082.725082         23.431835   \n",
       "std         14480.490287        5601.708872         37.416001   \n",
       "min             0.000000           0.000000         -2.000000   \n",
       "25%          7800.000000        4800.000000          5.000000   \n",
       "50%         14400.000000        7100.000000         14.000000   \n",
       "75%         20400.000000        9937.500000         23.000000   \n",
       "max        266400.000000       82800.000000        360.000000   \n",
       "\n",
       "       loans_latest_day  \n",
       "count       3983.000000  \n",
       "mean          52.370073  \n",
       "std           51.011847  \n",
       "min           -2.000000  \n",
       "25%            9.000000  \n",
       "50%           33.000000  \n",
       "75%           87.000000  \n",
       "max          323.000000  \n",
       "\n",
       "[8 rows x 82 columns]"
      ]
     },
     "execution_count": 16,
     "metadata": {},
     "output_type": "execute_result"
    }
   ],
   "source": [
    "data.describe()"
   ]
  },
  {
   "cell_type": "markdown",
   "metadata": {},
   "source": [
    "### 缺失值初步处理完\n",
    "#### 接下来应该先把数值型无量纲化呢还是先把非数值型数值化？\n",
    "#### 非数值型一共有7个：trade_no; bank_card_no;reg_preference_for_trad; source;id_name;latest_query_time;loans_credit_limit"
   ]
  },
  {
   "cell_type": "markdown",
   "metadata": {},
   "source": [
    "## 去除唯一化（看书发现的）\n",
    "比如trade_no每个用户都不一样，说明对最后的预测结果没有影响"
   ]
  },
  {
   "cell_type": "code",
   "execution_count": 20,
   "metadata": {},
   "outputs": [
    {
     "data": {
      "text/html": [
       "<div>\n",
       "<style scoped>\n",
       "    .dataframe tbody tr th:only-of-type {\n",
       "        vertical-align: middle;\n",
       "    }\n",
       "\n",
       "    .dataframe tbody tr th {\n",
       "        vertical-align: top;\n",
       "    }\n",
       "\n",
       "    .dataframe thead th {\n",
       "        text-align: right;\n",
       "    }\n",
       "</style>\n",
       "<table border=\"1\" class=\"dataframe\">\n",
       "  <thead>\n",
       "    <tr style=\"text-align: right;\">\n",
       "      <th></th>\n",
       "      <th>Unnamed: 0</th>\n",
       "      <th>custid</th>\n",
       "      <th>bank_card_no</th>\n",
       "      <th>low_volume_percent</th>\n",
       "      <th>middle_volume_percent</th>\n",
       "      <th>take_amount_in_later_12_month_highest</th>\n",
       "      <th>trans_amount_increase_rate_lately</th>\n",
       "      <th>trans_activity_month</th>\n",
       "      <th>trans_activity_day</th>\n",
       "      <th>transd_mcc</th>\n",
       "      <th>...</th>\n",
       "      <th>loans_max_limit</th>\n",
       "      <th>loans_avg_limit</th>\n",
       "      <th>consfin_credit_limit</th>\n",
       "      <th>consfin_credibility</th>\n",
       "      <th>consfin_org_count_current</th>\n",
       "      <th>consfin_product_count</th>\n",
       "      <th>consfin_max_limit</th>\n",
       "      <th>consfin_avg_limit</th>\n",
       "      <th>latest_query_day</th>\n",
       "      <th>loans_latest_day</th>\n",
       "    </tr>\n",
       "  </thead>\n",
       "  <tbody>\n",
       "    <tr>\n",
       "      <th>0</th>\n",
       "      <td>5</td>\n",
       "      <td>2791858</td>\n",
       "      <td>卡号1</td>\n",
       "      <td>0.01</td>\n",
       "      <td>0.99</td>\n",
       "      <td>0</td>\n",
       "      <td>0.90</td>\n",
       "      <td>0.55</td>\n",
       "      <td>0.313</td>\n",
       "      <td>17.0</td>\n",
       "      <td>...</td>\n",
       "      <td>2900.0</td>\n",
       "      <td>1688.0</td>\n",
       "      <td>1200.0</td>\n",
       "      <td>75.0</td>\n",
       "      <td>1.0</td>\n",
       "      <td>2.0</td>\n",
       "      <td>1200.0</td>\n",
       "      <td>1200.0</td>\n",
       "      <td>12.0</td>\n",
       "      <td>18.0</td>\n",
       "    </tr>\n",
       "    <tr>\n",
       "      <th>1</th>\n",
       "      <td>10</td>\n",
       "      <td>534047</td>\n",
       "      <td>卡号1</td>\n",
       "      <td>0.02</td>\n",
       "      <td>0.94</td>\n",
       "      <td>2000</td>\n",
       "      <td>1.28</td>\n",
       "      <td>1.00</td>\n",
       "      <td>0.458</td>\n",
       "      <td>19.0</td>\n",
       "      <td>...</td>\n",
       "      <td>3500.0</td>\n",
       "      <td>1758.0</td>\n",
       "      <td>15100.0</td>\n",
       "      <td>80.0</td>\n",
       "      <td>5.0</td>\n",
       "      <td>6.0</td>\n",
       "      <td>22800.0</td>\n",
       "      <td>9360.0</td>\n",
       "      <td>4.0</td>\n",
       "      <td>2.0</td>\n",
       "    </tr>\n",
       "    <tr>\n",
       "      <th>2</th>\n",
       "      <td>12</td>\n",
       "      <td>2849787</td>\n",
       "      <td>卡号1</td>\n",
       "      <td>0.04</td>\n",
       "      <td>0.96</td>\n",
       "      <td>0</td>\n",
       "      <td>1.00</td>\n",
       "      <td>1.00</td>\n",
       "      <td>0.114</td>\n",
       "      <td>13.0</td>\n",
       "      <td>...</td>\n",
       "      <td>1600.0</td>\n",
       "      <td>1250.0</td>\n",
       "      <td>4200.0</td>\n",
       "      <td>87.0</td>\n",
       "      <td>1.0</td>\n",
       "      <td>1.0</td>\n",
       "      <td>4200.0</td>\n",
       "      <td>4200.0</td>\n",
       "      <td>2.0</td>\n",
       "      <td>6.0</td>\n",
       "    </tr>\n",
       "    <tr>\n",
       "      <th>3</th>\n",
       "      <td>13</td>\n",
       "      <td>1809708</td>\n",
       "      <td>卡号1</td>\n",
       "      <td>0.00</td>\n",
       "      <td>0.96</td>\n",
       "      <td>2000</td>\n",
       "      <td>0.13</td>\n",
       "      <td>0.57</td>\n",
       "      <td>0.777</td>\n",
       "      <td>22.0</td>\n",
       "      <td>...</td>\n",
       "      <td>3200.0</td>\n",
       "      <td>1541.0</td>\n",
       "      <td>16300.0</td>\n",
       "      <td>80.0</td>\n",
       "      <td>5.0</td>\n",
       "      <td>5.0</td>\n",
       "      <td>30000.0</td>\n",
       "      <td>12180.0</td>\n",
       "      <td>2.0</td>\n",
       "      <td>4.0</td>\n",
       "    </tr>\n",
       "    <tr>\n",
       "      <th>4</th>\n",
       "      <td>14</td>\n",
       "      <td>2499829</td>\n",
       "      <td>卡号1</td>\n",
       "      <td>0.01</td>\n",
       "      <td>0.99</td>\n",
       "      <td>0</td>\n",
       "      <td>0.46</td>\n",
       "      <td>1.00</td>\n",
       "      <td>0.175</td>\n",
       "      <td>13.0</td>\n",
       "      <td>...</td>\n",
       "      <td>2300.0</td>\n",
       "      <td>1630.0</td>\n",
       "      <td>8300.0</td>\n",
       "      <td>79.0</td>\n",
       "      <td>2.0</td>\n",
       "      <td>2.0</td>\n",
       "      <td>8400.0</td>\n",
       "      <td>8250.0</td>\n",
       "      <td>22.0</td>\n",
       "      <td>120.0</td>\n",
       "    </tr>\n",
       "  </tbody>\n",
       "</table>\n",
       "<p>5 rows × 88 columns</p>\n",
       "</div>"
      ],
      "text/plain": [
       "   Unnamed: 0   custid bank_card_no  low_volume_percent  \\\n",
       "0           5  2791858          卡号1                0.01   \n",
       "1          10   534047          卡号1                0.02   \n",
       "2          12  2849787          卡号1                0.04   \n",
       "3          13  1809708          卡号1                0.00   \n",
       "4          14  2499829          卡号1                0.01   \n",
       "\n",
       "   middle_volume_percent  take_amount_in_later_12_month_highest  \\\n",
       "0                   0.99                                      0   \n",
       "1                   0.94                                   2000   \n",
       "2                   0.96                                      0   \n",
       "3                   0.96                                   2000   \n",
       "4                   0.99                                      0   \n",
       "\n",
       "   trans_amount_increase_rate_lately  trans_activity_month  \\\n",
       "0                               0.90                  0.55   \n",
       "1                               1.28                  1.00   \n",
       "2                               1.00                  1.00   \n",
       "3                               0.13                  0.57   \n",
       "4                               0.46                  1.00   \n",
       "\n",
       "   trans_activity_day  transd_mcc  ...  loans_max_limit  loans_avg_limit  \\\n",
       "0               0.313        17.0  ...           2900.0           1688.0   \n",
       "1               0.458        19.0  ...           3500.0           1758.0   \n",
       "2               0.114        13.0  ...           1600.0           1250.0   \n",
       "3               0.777        22.0  ...           3200.0           1541.0   \n",
       "4               0.175        13.0  ...           2300.0           1630.0   \n",
       "\n",
       "   consfin_credit_limit  consfin_credibility  consfin_org_count_current  \\\n",
       "0                1200.0                 75.0                        1.0   \n",
       "1               15100.0                 80.0                        5.0   \n",
       "2                4200.0                 87.0                        1.0   \n",
       "3               16300.0                 80.0                        5.0   \n",
       "4                8300.0                 79.0                        2.0   \n",
       "\n",
       "   consfin_product_count  consfin_max_limit  consfin_avg_limit  \\\n",
       "0                    2.0             1200.0             1200.0   \n",
       "1                    6.0            22800.0             9360.0   \n",
       "2                    1.0             4200.0             4200.0   \n",
       "3                    5.0            30000.0            12180.0   \n",
       "4                    2.0             8400.0             8250.0   \n",
       "\n",
       "   latest_query_day  loans_latest_day  \n",
       "0              12.0              18.0  \n",
       "1               4.0               2.0  \n",
       "2               2.0               6.0  \n",
       "3               2.0               4.0  \n",
       "4              22.0             120.0  \n",
       "\n",
       "[5 rows x 88 columns]"
      ]
     },
     "execution_count": 20,
     "metadata": {},
     "output_type": "execute_result"
    }
   ],
   "source": [
    "data.drop(columns = 'trade_no',inplace=True)\n",
    "data.head()"
   ]
  },
  {
   "cell_type": "markdown",
   "metadata": {},
   "source": [
    "## 文字型转数值型\n",
    "- 先分别看看那7个object的特征（哦，不，现在还剩6个）"
   ]
  },
  {
   "cell_type": "code",
   "execution_count": 23,
   "metadata": {},
   "outputs": [
    {
     "data": {
      "text/plain": [
       "0    卡号1\n",
       "1    卡号1\n",
       "2    卡号1\n",
       "3    卡号1\n",
       "4    卡号1\n",
       "5    卡号1\n",
       "8    卡号1\n",
       "9    卡号1\n",
       "Name: bank_card_no, dtype: object"
      ]
     },
     "execution_count": 23,
     "metadata": {},
     "output_type": "execute_result"
    }
   ],
   "source": [
    "data.loc[:9,'bank_card_no']"
   ]
  },
  {
   "cell_type": "code",
   "execution_count": 64,
   "metadata": {},
   "outputs": [
    {
     "name": "stdout",
     "output_type": "stream",
     "text": [
      "{'卡号1'}\n"
     ]
    }
   ],
   "source": [
    "print(set(data['bank_card_no']))"
   ]
  },
  {
   "cell_type": "markdown",
   "metadata": {},
   "source": [
    "### 后来发现：bank_card_no所有用户也都一样"
   ]
  },
  {
   "cell_type": "code",
   "execution_count": 65,
   "metadata": {},
   "outputs": [],
   "source": [
    "data.drop(columns='bank_card_no',inplace=True)"
   ]
  },
  {
   "cell_type": "code",
   "execution_count": 24,
   "metadata": {},
   "outputs": [
    {
     "data": {
      "text/plain": [
       "0    一线城市\n",
       "1    一线城市\n",
       "2    一线城市\n",
       "3    三线城市\n",
       "4    一线城市\n",
       "5    三线城市\n",
       "Name: reg_preference_for_trad, dtype: object"
      ]
     },
     "execution_count": 24,
     "metadata": {},
     "output_type": "execute_result"
    }
   ],
   "source": [
    "data.loc[:5,'reg_preference_for_trad']"
   ]
  },
  {
   "cell_type": "code",
   "execution_count": 34,
   "metadata": {},
   "outputs": [
    {
     "data": {
      "text/plain": [
       "0    xs\n",
       "1    xs\n",
       "2    xs\n",
       "3    xs\n",
       "4    xs\n",
       "5    xs\n",
       "8    xs\n",
       "9    xs\n",
       "Name: source, dtype: object"
      ]
     },
     "execution_count": 34,
     "metadata": {},
     "output_type": "execute_result"
    }
   ],
   "source": [
    "data.loc[:9,'source']"
   ]
  },
  {
   "cell_type": "markdown",
   "metadata": {},
   "source": [
    "### 发现'source'特征似乎所有用户都一样\n",
    "如果是这样的话，对结果类别没什么影响，应该删掉，经过判断确实一样。"
   ]
  },
  {
   "cell_type": "code",
   "execution_count": 62,
   "metadata": {},
   "outputs": [
    {
     "ename": "KeyError",
     "evalue": "'source'",
     "output_type": "error",
     "traceback": [
      "\u001b[1;31m---------------------------------------------------------------------------\u001b[0m",
      "\u001b[1;31mKeyError\u001b[0m                                  Traceback (most recent call last)",
      "\u001b[1;32mD:\\anaconda\\lib\\site-packages\\pandas\\core\\indexes\\base.py\u001b[0m in \u001b[0;36mget_loc\u001b[1;34m(self, key, method, tolerance)\u001b[0m\n\u001b[0;32m   2656\u001b[0m             \u001b[1;32mtry\u001b[0m\u001b[1;33m:\u001b[0m\u001b[1;33m\u001b[0m\u001b[1;33m\u001b[0m\u001b[0m\n\u001b[1;32m-> 2657\u001b[1;33m                 \u001b[1;32mreturn\u001b[0m \u001b[0mself\u001b[0m\u001b[1;33m.\u001b[0m\u001b[0m_engine\u001b[0m\u001b[1;33m.\u001b[0m\u001b[0mget_loc\u001b[0m\u001b[1;33m(\u001b[0m\u001b[0mkey\u001b[0m\u001b[1;33m)\u001b[0m\u001b[1;33m\u001b[0m\u001b[1;33m\u001b[0m\u001b[0m\n\u001b[0m\u001b[0;32m   2658\u001b[0m             \u001b[1;32mexcept\u001b[0m \u001b[0mKeyError\u001b[0m\u001b[1;33m:\u001b[0m\u001b[1;33m\u001b[0m\u001b[1;33m\u001b[0m\u001b[0m\n",
      "\u001b[1;32mpandas/_libs/index.pyx\u001b[0m in \u001b[0;36mpandas._libs.index.IndexEngine.get_loc\u001b[1;34m()\u001b[0m\n",
      "\u001b[1;32mpandas/_libs/index.pyx\u001b[0m in \u001b[0;36mpandas._libs.index.IndexEngine.get_loc\u001b[1;34m()\u001b[0m\n",
      "\u001b[1;32mpandas/_libs/hashtable_class_helper.pxi\u001b[0m in \u001b[0;36mpandas._libs.hashtable.PyObjectHashTable.get_item\u001b[1;34m()\u001b[0m\n",
      "\u001b[1;32mpandas/_libs/hashtable_class_helper.pxi\u001b[0m in \u001b[0;36mpandas._libs.hashtable.PyObjectHashTable.get_item\u001b[1;34m()\u001b[0m\n",
      "\u001b[1;31mKeyError\u001b[0m: 'source'",
      "\nDuring handling of the above exception, another exception occurred:\n",
      "\u001b[1;31mKeyError\u001b[0m                                  Traceback (most recent call last)",
      "\u001b[1;32m<ipython-input-62-8b165955b6c1>\u001b[0m in \u001b[0;36m<module>\u001b[1;34m\u001b[0m\n\u001b[1;32m----> 1\u001b[1;33m \u001b[0mtmp\u001b[0m \u001b[1;33m=\u001b[0m \u001b[0mset\u001b[0m\u001b[1;33m(\u001b[0m\u001b[0mdata\u001b[0m\u001b[1;33m[\u001b[0m\u001b[1;34m'source'\u001b[0m\u001b[1;33m]\u001b[0m\u001b[1;33m)\u001b[0m\u001b[1;33m\u001b[0m\u001b[1;33m\u001b[0m\u001b[0m\n\u001b[0m",
      "\u001b[1;32mD:\\anaconda\\lib\\site-packages\\pandas\\core\\frame.py\u001b[0m in \u001b[0;36m__getitem__\u001b[1;34m(self, key)\u001b[0m\n\u001b[0;32m   2925\u001b[0m             \u001b[1;32mif\u001b[0m \u001b[0mself\u001b[0m\u001b[1;33m.\u001b[0m\u001b[0mcolumns\u001b[0m\u001b[1;33m.\u001b[0m\u001b[0mnlevels\u001b[0m \u001b[1;33m>\u001b[0m \u001b[1;36m1\u001b[0m\u001b[1;33m:\u001b[0m\u001b[1;33m\u001b[0m\u001b[1;33m\u001b[0m\u001b[0m\n\u001b[0;32m   2926\u001b[0m                 \u001b[1;32mreturn\u001b[0m \u001b[0mself\u001b[0m\u001b[1;33m.\u001b[0m\u001b[0m_getitem_multilevel\u001b[0m\u001b[1;33m(\u001b[0m\u001b[0mkey\u001b[0m\u001b[1;33m)\u001b[0m\u001b[1;33m\u001b[0m\u001b[1;33m\u001b[0m\u001b[0m\n\u001b[1;32m-> 2927\u001b[1;33m             \u001b[0mindexer\u001b[0m \u001b[1;33m=\u001b[0m \u001b[0mself\u001b[0m\u001b[1;33m.\u001b[0m\u001b[0mcolumns\u001b[0m\u001b[1;33m.\u001b[0m\u001b[0mget_loc\u001b[0m\u001b[1;33m(\u001b[0m\u001b[0mkey\u001b[0m\u001b[1;33m)\u001b[0m\u001b[1;33m\u001b[0m\u001b[1;33m\u001b[0m\u001b[0m\n\u001b[0m\u001b[0;32m   2928\u001b[0m             \u001b[1;32mif\u001b[0m \u001b[0mis_integer\u001b[0m\u001b[1;33m(\u001b[0m\u001b[0mindexer\u001b[0m\u001b[1;33m)\u001b[0m\u001b[1;33m:\u001b[0m\u001b[1;33m\u001b[0m\u001b[1;33m\u001b[0m\u001b[0m\n\u001b[0;32m   2929\u001b[0m                 \u001b[0mindexer\u001b[0m \u001b[1;33m=\u001b[0m \u001b[1;33m[\u001b[0m\u001b[0mindexer\u001b[0m\u001b[1;33m]\u001b[0m\u001b[1;33m\u001b[0m\u001b[1;33m\u001b[0m\u001b[0m\n",
      "\u001b[1;32mD:\\anaconda\\lib\\site-packages\\pandas\\core\\indexes\\base.py\u001b[0m in \u001b[0;36mget_loc\u001b[1;34m(self, key, method, tolerance)\u001b[0m\n\u001b[0;32m   2657\u001b[0m                 \u001b[1;32mreturn\u001b[0m \u001b[0mself\u001b[0m\u001b[1;33m.\u001b[0m\u001b[0m_engine\u001b[0m\u001b[1;33m.\u001b[0m\u001b[0mget_loc\u001b[0m\u001b[1;33m(\u001b[0m\u001b[0mkey\u001b[0m\u001b[1;33m)\u001b[0m\u001b[1;33m\u001b[0m\u001b[1;33m\u001b[0m\u001b[0m\n\u001b[0;32m   2658\u001b[0m             \u001b[1;32mexcept\u001b[0m \u001b[0mKeyError\u001b[0m\u001b[1;33m:\u001b[0m\u001b[1;33m\u001b[0m\u001b[1;33m\u001b[0m\u001b[0m\n\u001b[1;32m-> 2659\u001b[1;33m                 \u001b[1;32mreturn\u001b[0m \u001b[0mself\u001b[0m\u001b[1;33m.\u001b[0m\u001b[0m_engine\u001b[0m\u001b[1;33m.\u001b[0m\u001b[0mget_loc\u001b[0m\u001b[1;33m(\u001b[0m\u001b[0mself\u001b[0m\u001b[1;33m.\u001b[0m\u001b[0m_maybe_cast_indexer\u001b[0m\u001b[1;33m(\u001b[0m\u001b[0mkey\u001b[0m\u001b[1;33m)\u001b[0m\u001b[1;33m)\u001b[0m\u001b[1;33m\u001b[0m\u001b[1;33m\u001b[0m\u001b[0m\n\u001b[0m\u001b[0;32m   2660\u001b[0m         \u001b[0mindexer\u001b[0m \u001b[1;33m=\u001b[0m \u001b[0mself\u001b[0m\u001b[1;33m.\u001b[0m\u001b[0mget_indexer\u001b[0m\u001b[1;33m(\u001b[0m\u001b[1;33m[\u001b[0m\u001b[0mkey\u001b[0m\u001b[1;33m]\u001b[0m\u001b[1;33m,\u001b[0m \u001b[0mmethod\u001b[0m\u001b[1;33m=\u001b[0m\u001b[0mmethod\u001b[0m\u001b[1;33m,\u001b[0m \u001b[0mtolerance\u001b[0m\u001b[1;33m=\u001b[0m\u001b[0mtolerance\u001b[0m\u001b[1;33m)\u001b[0m\u001b[1;33m\u001b[0m\u001b[1;33m\u001b[0m\u001b[0m\n\u001b[0;32m   2661\u001b[0m         \u001b[1;32mif\u001b[0m \u001b[0mindexer\u001b[0m\u001b[1;33m.\u001b[0m\u001b[0mndim\u001b[0m \u001b[1;33m>\u001b[0m \u001b[1;36m1\u001b[0m \u001b[1;32mor\u001b[0m \u001b[0mindexer\u001b[0m\u001b[1;33m.\u001b[0m\u001b[0msize\u001b[0m \u001b[1;33m>\u001b[0m \u001b[1;36m1\u001b[0m\u001b[1;33m:\u001b[0m\u001b[1;33m\u001b[0m\u001b[1;33m\u001b[0m\u001b[0m\n",
      "\u001b[1;32mpandas/_libs/index.pyx\u001b[0m in \u001b[0;36mpandas._libs.index.IndexEngine.get_loc\u001b[1;34m()\u001b[0m\n",
      "\u001b[1;32mpandas/_libs/index.pyx\u001b[0m in \u001b[0;36mpandas._libs.index.IndexEngine.get_loc\u001b[1;34m()\u001b[0m\n",
      "\u001b[1;32mpandas/_libs/hashtable_class_helper.pxi\u001b[0m in \u001b[0;36mpandas._libs.hashtable.PyObjectHashTable.get_item\u001b[1;34m()\u001b[0m\n",
      "\u001b[1;32mpandas/_libs/hashtable_class_helper.pxi\u001b[0m in \u001b[0;36mpandas._libs.hashtable.PyObjectHashTable.get_item\u001b[1;34m()\u001b[0m\n",
      "\u001b[1;31mKeyError\u001b[0m: 'source'"
     ]
    }
   ],
   "source": [
    "tmp = set(data['source'])"
   ]
  },
  {
   "cell_type": "code",
   "execution_count": 33,
   "metadata": {},
   "outputs": [
    {
     "name": "stdout",
     "output_type": "stream",
     "text": [
      "{'xs'}\n"
     ]
    }
   ],
   "source": [
    "print(tmp)"
   ]
  },
  {
   "cell_type": "code",
   "execution_count": 35,
   "metadata": {},
   "outputs": [],
   "source": [
    "data=data.drop(columns = 'source')"
   ]
  },
  {
   "cell_type": "code",
   "execution_count": 66,
   "metadata": {},
   "outputs": [
    {
     "data": {
      "text/plain": [
       "(3983, 85)"
      ]
     },
     "execution_count": 66,
     "metadata": {},
     "output_type": "execute_result"
    }
   ],
   "source": [
    "data.shape"
   ]
  },
  {
   "cell_type": "code",
   "execution_count": 36,
   "metadata": {},
   "outputs": [
    {
     "data": {
      "text/plain": [
       "0     蒋红\n",
       "1    崔向朝\n",
       "2    王中云\n",
       "3    何洋洋\n",
       "4     赵洋\n",
       "5     刘成\n",
       "Name: id_name, dtype: object"
      ]
     },
     "execution_count": 36,
     "metadata": {},
     "output_type": "execute_result"
    }
   ],
   "source": [
    "data.loc[:5,'id_name']"
   ]
  },
  {
   "cell_type": "code",
   "execution_count": 37,
   "metadata": {},
   "outputs": [],
   "source": [
    "# 同上，去掉\n",
    "data.drop(columns='id_name',inplace=True)"
   ]
  },
  {
   "cell_type": "code",
   "execution_count": 67,
   "metadata": {},
   "outputs": [
    {
     "data": {
      "text/plain": [
       "(3983, 85)"
      ]
     },
     "execution_count": 67,
     "metadata": {},
     "output_type": "execute_result"
    }
   ],
   "source": [
    "data.shape #验证删除成功"
   ]
  },
  {
   "cell_type": "code",
   "execution_count": 40,
   "metadata": {},
   "outputs": [
    {
     "data": {
      "text/plain": [
       "0    2018-04-25\n",
       "1    2018-05-03\n",
       "2    2018-05-05\n",
       "3    2018-05-05\n",
       "4    2018-04-15\n",
       "5    2018-05-04\n",
       "Name: latest_query_time, dtype: object"
      ]
     },
     "execution_count": 40,
     "metadata": {},
     "output_type": "execute_result"
    }
   ],
   "source": [
    "data.loc[:5,'latest_query_time'] #"
   ]
  },
  {
   "cell_type": "code",
   "execution_count": 42,
   "metadata": {},
   "outputs": [
    {
     "data": {
      "text/plain": [
       "0    2018-04-19\n",
       "1    2018-05-05\n",
       "2    2018-05-01\n",
       "3    2018-05-03\n",
       "4    2018-01-07\n",
       "5    2018-05-03\n",
       "Name: loans_latest_time, dtype: object"
      ]
     },
     "execution_count": 42,
     "metadata": {},
     "output_type": "execute_result"
    }
   ],
   "source": [
    "data.loc[:5,'loans_latest_time']"
   ]
  },
  {
   "cell_type": "markdown",
   "metadata": {},
   "source": [
    "### 将'latest_query_time'、'loans_latest_time'两个日期处理成时间戳 \n",
    "将时间字符串转化成时间戳分为两步： \n",
    "第一步：将时间字符串转换成时间元组 strptime  \n",
    "第二步：将时间元组转换成时间戳类型 mktime"
   ]
  },
  {
   "cell_type": "code",
   "execution_count": 44,
   "metadata": {},
   "outputs": [],
   "source": [
    "import time\n",
    "data['loans_latest_timestamp'] = data['loans_latest_time'].apply(lambda x:time.mktime(time.strptime(x,'%Y-%m-%d')))"
   ]
  },
  {
   "cell_type": "code",
   "execution_count": 45,
   "metadata": {},
   "outputs": [
    {
     "data": {
      "text/plain": [
       "(3983, 87)"
      ]
     },
     "execution_count": 45,
     "metadata": {},
     "output_type": "execute_result"
    }
   ],
   "source": [
    "data.shape"
   ]
  },
  {
   "cell_type": "code",
   "execution_count": 46,
   "metadata": {},
   "outputs": [
    {
     "data": {
      "text/html": [
       "<div>\n",
       "<style scoped>\n",
       "    .dataframe tbody tr th:only-of-type {\n",
       "        vertical-align: middle;\n",
       "    }\n",
       "\n",
       "    .dataframe tbody tr th {\n",
       "        vertical-align: top;\n",
       "    }\n",
       "\n",
       "    .dataframe thead th {\n",
       "        text-align: right;\n",
       "    }\n",
       "</style>\n",
       "<table border=\"1\" class=\"dataframe\">\n",
       "  <thead>\n",
       "    <tr style=\"text-align: right;\">\n",
       "      <th></th>\n",
       "      <th>loans_latest_time</th>\n",
       "      <th>loans_latest_timestamp</th>\n",
       "    </tr>\n",
       "  </thead>\n",
       "  <tbody>\n",
       "    <tr>\n",
       "      <th>0</th>\n",
       "      <td>2018-04-19</td>\n",
       "      <td>1.524067e+09</td>\n",
       "    </tr>\n",
       "    <tr>\n",
       "      <th>1</th>\n",
       "      <td>2018-05-05</td>\n",
       "      <td>1.525450e+09</td>\n",
       "    </tr>\n",
       "    <tr>\n",
       "      <th>2</th>\n",
       "      <td>2018-05-01</td>\n",
       "      <td>1.525104e+09</td>\n",
       "    </tr>\n",
       "    <tr>\n",
       "      <th>3</th>\n",
       "      <td>2018-05-03</td>\n",
       "      <td>1.525277e+09</td>\n",
       "    </tr>\n",
       "    <tr>\n",
       "      <th>4</th>\n",
       "      <td>2018-01-07</td>\n",
       "      <td>1.515254e+09</td>\n",
       "    </tr>\n",
       "    <tr>\n",
       "      <th>5</th>\n",
       "      <td>2018-05-03</td>\n",
       "      <td>1.525277e+09</td>\n",
       "    </tr>\n",
       "  </tbody>\n",
       "</table>\n",
       "</div>"
      ],
      "text/plain": [
       "  loans_latest_time  loans_latest_timestamp\n",
       "0        2018-04-19            1.524067e+09\n",
       "1        2018-05-05            1.525450e+09\n",
       "2        2018-05-01            1.525104e+09\n",
       "3        2018-05-03            1.525277e+09\n",
       "4        2018-01-07            1.515254e+09\n",
       "5        2018-05-03            1.525277e+09"
      ]
     },
     "execution_count": 46,
     "metadata": {},
     "output_type": "execute_result"
    }
   ],
   "source": [
    "data.loc[:5,['loans_latest_time','loans_latest_timestamp']]"
   ]
  },
  {
   "cell_type": "code",
   "execution_count": 54,
   "metadata": {},
   "outputs": [],
   "source": [
    "#用data['loans_latest_timestamp']替换data['loans_latest_time']\n",
    "data['loans_latest_time']=data['loans_latest_timestamp']"
   ]
  },
  {
   "cell_type": "code",
   "execution_count": 58,
   "metadata": {},
   "outputs": [
    {
     "data": {
      "text/plain": [
       "(3983, 86)"
      ]
     },
     "execution_count": 58,
     "metadata": {},
     "output_type": "execute_result"
    }
   ],
   "source": [
    "data.drop(columns='loans_latest_time',inplace=True)\n",
    "data.shape"
   ]
  },
  {
   "cell_type": "code",
   "execution_count": 59,
   "metadata": {},
   "outputs": [],
   "source": [
    "#同法处理data['latest_query_time'] 干脆直接修改data['latest_query_time']\n",
    "data['latest_query_time'] = data['latest_query_time'].apply(lambda x:time.mktime(time.strptime(x,'%Y-%m-%d')))"
   ]
  },
  {
   "cell_type": "code",
   "execution_count": 68,
   "metadata": {},
   "outputs": [
    {
     "data": {
      "text/plain": [
       "(3983, 85)"
      ]
     },
     "execution_count": 68,
     "metadata": {},
     "output_type": "execute_result"
    }
   ],
   "source": [
    "data.shape"
   ]
  },
  {
   "cell_type": "markdown",
   "metadata": {},
   "source": [
    "### 7个object只剩下了reg_preference_for_trad\n"
   ]
  },
  {
   "cell_type": "code",
   "execution_count": 70,
   "metadata": {},
   "outputs": [
    {
     "name": "stdout",
     "output_type": "stream",
     "text": [
      "{'二线城市', '境外', '一线城市', '三线城市', '其他城市'}\n"
     ]
    }
   ],
   "source": [
    "print(set(data['reg_preference_for_trad']))"
   ]
  },
  {
   "cell_type": "code",
   "execution_count": 71,
   "metadata": {},
   "outputs": [],
   "source": [
    "#对data['reg_preference_for_trad']采用labelEncoder\n",
    "from sklearn.preprocessing import LabelEncoder\n",
    "\n",
    "le = LabelEncoder()\n",
    "data['reg_preference_for_trad']=le.fit_transform(data['reg_preference_for_trad'])"
   ]
  },
  {
   "cell_type": "code",
   "execution_count": 73,
   "metadata": {},
   "outputs": [
    {
     "data": {
      "text/plain": [
       "0    0\n",
       "1    0\n",
       "2    0\n",
       "3    1\n",
       "4    0\n",
       "5    1\n",
       "Name: reg_preference_for_trad, dtype: int32"
      ]
     },
     "execution_count": 73,
     "metadata": {},
     "output_type": "execute_result"
    }
   ],
   "source": [
    "data.loc[:5,'reg_preference_for_trad']"
   ]
  },
  {
   "cell_type": "code",
   "execution_count": 74,
   "metadata": {},
   "outputs": [
    {
     "data": {
      "text/plain": [
       "array(['一线城市', '三线城市', '二线城市', '其他城市', '境外'], dtype=object)"
      ]
     },
     "execution_count": 74,
     "metadata": {},
     "output_type": "execute_result"
    }
   ],
   "source": [
    "le.classes_"
   ]
  },
  {
   "cell_type": "markdown",
   "metadata": {},
   "source": [
    "### 非数值型特征处理小结：\n",
    "'trade_no'/'id_name'对每个用户基本都是unique的;'bank_card_no'/'source'每个用户都一样。所以它们四个对分类无意义，直接drop掉\n",
    "'latest_query_time'/'loans_latest_time'统一编程了timestamp格式，是flaot64\n",
    "'reg_preference_for_trad'里面有五类，利用LabelEncoder变成了0/1/2/3/4"
   ]
  },
  {
   "cell_type": "markdown",
   "metadata": {},
   "source": [
    "## 下考虑归一化（有选择的）\n",
    "但是是不是应该在特征选择之后呢？此时应该看一看群里的讨论"
   ]
  },
  {
   "cell_type": "code",
   "execution_count": null,
   "metadata": {},
   "outputs": [],
   "source": []
  }
 ],
 "metadata": {
  "kernelspec": {
   "display_name": "Python 3",
   "language": "python",
   "name": "python3"
  },
  "language_info": {
   "codemirror_mode": {
    "name": "ipython",
    "version": 3
   },
   "file_extension": ".py",
   "mimetype": "text/x-python",
   "name": "python",
   "nbconvert_exporter": "python",
   "pygments_lexer": "ipython3",
   "version": "3.7.3"
  }
 },
 "nbformat": 4,
 "nbformat_minor": 2
}
