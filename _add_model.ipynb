{
 "cells": [
  {
   "cell_type": "markdown",
   "metadata": {},
   "source": [
    "本文为跟随datawhale组队学习任务的一次尝试，初次完成一个完整的数据挖掘项目。各方面经验不足，请朋友多多指正。\n",
    "\n",
    "任务说明：数据集是金融数据（非原始数据，已经处理过了），我们要做的是预测贷款用户是否会逾期。表格中 \"status\" 是结果标签：0表示未逾期，1表示逾期。\n",
    "\n",
    "任务要求：数据切分方式 - 三七分，其中测试集30%，训练集70%，随机种子设置为2018   \n",
    "任务1：对数据进行探索和分析。\n",
    "\n",
    "数据类型的分析  \n",
    "无关特征删除  \n",
    "数据类型转换  \n",
    "缺失值处理  \n",
    "……以及你能想到和借鉴的数据分析处理\n",
    "\n",
    "任务2 - 特征工程（2天）\n",
    "\n",
    "特征衍生\n",
    "特征挑选：分别用IV值和随机森林等进行特征选择\n",
    "……以及你能想到特征工程处理\n",
    "\n",
    "任务3 - 建模（2天）\n",
    "用逻辑回归、svm和决策树；随机森林和XGBoost进行模型构建，评分方式任意，如准确率等。（不需要考虑模型调参）"
   ]
  },
  {
   "cell_type": "markdown",
   "metadata": {},
   "source": [
    "## Task1 数据探索"
   ]
  },
  {
   "cell_type": "code",
   "execution_count": 1,
   "metadata": {},
   "outputs": [],
   "source": [
    "import numpy as np\n",
    "import pandas as pd\n",
    "import matplotlib.pyplot as plt   #用到了里面的hist\n",
    "import seaborn as sns     #和标签列做相关性分析"
   ]
  },
  {
   "cell_type": "code",
   "execution_count": 2,
   "metadata": {},
   "outputs": [
    {
     "data": {
      "text/html": [
       "<div>\n",
       "<style scoped>\n",
       "    .dataframe tbody tr th:only-of-type {\n",
       "        vertical-align: middle;\n",
       "    }\n",
       "\n",
       "    .dataframe tbody tr th {\n",
       "        vertical-align: top;\n",
       "    }\n",
       "\n",
       "    .dataframe thead th {\n",
       "        text-align: right;\n",
       "    }\n",
       "</style>\n",
       "<table border=\"1\" class=\"dataframe\">\n",
       "  <thead>\n",
       "    <tr style=\"text-align: right;\">\n",
       "      <th></th>\n",
       "      <th>Unnamed: 0</th>\n",
       "      <th>custid</th>\n",
       "      <th>trade_no</th>\n",
       "      <th>bank_card_no</th>\n",
       "      <th>low_volume_percent</th>\n",
       "      <th>middle_volume_percent</th>\n",
       "      <th>take_amount_in_later_12_month_highest</th>\n",
       "      <th>trans_amount_increase_rate_lately</th>\n",
       "      <th>trans_activity_month</th>\n",
       "      <th>trans_activity_day</th>\n",
       "      <th>...</th>\n",
       "      <th>loans_max_limit</th>\n",
       "      <th>loans_avg_limit</th>\n",
       "      <th>consfin_credit_limit</th>\n",
       "      <th>consfin_credibility</th>\n",
       "      <th>consfin_org_count_current</th>\n",
       "      <th>consfin_product_count</th>\n",
       "      <th>consfin_max_limit</th>\n",
       "      <th>consfin_avg_limit</th>\n",
       "      <th>latest_query_day</th>\n",
       "      <th>loans_latest_day</th>\n",
       "    </tr>\n",
       "  </thead>\n",
       "  <tbody>\n",
       "    <tr>\n",
       "      <th>0</th>\n",
       "      <td>5</td>\n",
       "      <td>2791858</td>\n",
       "      <td>20180507115231274000000023057383</td>\n",
       "      <td>卡号1</td>\n",
       "      <td>0.01</td>\n",
       "      <td>0.99</td>\n",
       "      <td>0</td>\n",
       "      <td>0.90</td>\n",
       "      <td>0.55</td>\n",
       "      <td>0.313</td>\n",
       "      <td>...</td>\n",
       "      <td>2900.0</td>\n",
       "      <td>1688.0</td>\n",
       "      <td>1200.0</td>\n",
       "      <td>75.0</td>\n",
       "      <td>1.0</td>\n",
       "      <td>2.0</td>\n",
       "      <td>1200.0</td>\n",
       "      <td>1200.0</td>\n",
       "      <td>12.0</td>\n",
       "      <td>18.0</td>\n",
       "    </tr>\n",
       "    <tr>\n",
       "      <th>1</th>\n",
       "      <td>10</td>\n",
       "      <td>534047</td>\n",
       "      <td>20180507121002192000000023073000</td>\n",
       "      <td>卡号1</td>\n",
       "      <td>0.02</td>\n",
       "      <td>0.94</td>\n",
       "      <td>2000</td>\n",
       "      <td>1.28</td>\n",
       "      <td>1.00</td>\n",
       "      <td>0.458</td>\n",
       "      <td>...</td>\n",
       "      <td>3500.0</td>\n",
       "      <td>1758.0</td>\n",
       "      <td>15100.0</td>\n",
       "      <td>80.0</td>\n",
       "      <td>5.0</td>\n",
       "      <td>6.0</td>\n",
       "      <td>22800.0</td>\n",
       "      <td>9360.0</td>\n",
       "      <td>4.0</td>\n",
       "      <td>2.0</td>\n",
       "    </tr>\n",
       "    <tr>\n",
       "      <th>2</th>\n",
       "      <td>12</td>\n",
       "      <td>2849787</td>\n",
       "      <td>20180507125159718000000023114911</td>\n",
       "      <td>卡号1</td>\n",
       "      <td>0.04</td>\n",
       "      <td>0.96</td>\n",
       "      <td>0</td>\n",
       "      <td>1.00</td>\n",
       "      <td>1.00</td>\n",
       "      <td>0.114</td>\n",
       "      <td>...</td>\n",
       "      <td>1600.0</td>\n",
       "      <td>1250.0</td>\n",
       "      <td>4200.0</td>\n",
       "      <td>87.0</td>\n",
       "      <td>1.0</td>\n",
       "      <td>1.0</td>\n",
       "      <td>4200.0</td>\n",
       "      <td>4200.0</td>\n",
       "      <td>2.0</td>\n",
       "      <td>6.0</td>\n",
       "    </tr>\n",
       "    <tr>\n",
       "      <th>3</th>\n",
       "      <td>13</td>\n",
       "      <td>1809708</td>\n",
       "      <td>20180507121358683000000388283484</td>\n",
       "      <td>卡号1</td>\n",
       "      <td>0.00</td>\n",
       "      <td>0.96</td>\n",
       "      <td>2000</td>\n",
       "      <td>0.13</td>\n",
       "      <td>0.57</td>\n",
       "      <td>0.777</td>\n",
       "      <td>...</td>\n",
       "      <td>3200.0</td>\n",
       "      <td>1541.0</td>\n",
       "      <td>16300.0</td>\n",
       "      <td>80.0</td>\n",
       "      <td>5.0</td>\n",
       "      <td>5.0</td>\n",
       "      <td>30000.0</td>\n",
       "      <td>12180.0</td>\n",
       "      <td>2.0</td>\n",
       "      <td>4.0</td>\n",
       "    </tr>\n",
       "    <tr>\n",
       "      <th>4</th>\n",
       "      <td>14</td>\n",
       "      <td>2499829</td>\n",
       "      <td>20180507115448545000000388205844</td>\n",
       "      <td>卡号1</td>\n",
       "      <td>0.01</td>\n",
       "      <td>0.99</td>\n",
       "      <td>0</td>\n",
       "      <td>0.46</td>\n",
       "      <td>1.00</td>\n",
       "      <td>0.175</td>\n",
       "      <td>...</td>\n",
       "      <td>2300.0</td>\n",
       "      <td>1630.0</td>\n",
       "      <td>8300.0</td>\n",
       "      <td>79.0</td>\n",
       "      <td>2.0</td>\n",
       "      <td>2.0</td>\n",
       "      <td>8400.0</td>\n",
       "      <td>8250.0</td>\n",
       "      <td>22.0</td>\n",
       "      <td>120.0</td>\n",
       "    </tr>\n",
       "  </tbody>\n",
       "</table>\n",
       "<p>5 rows × 90 columns</p>\n",
       "</div>"
      ],
      "text/plain": [
       "   Unnamed: 0   custid                          trade_no bank_card_no  \\\n",
       "0           5  2791858  20180507115231274000000023057383          卡号1   \n",
       "1          10   534047  20180507121002192000000023073000          卡号1   \n",
       "2          12  2849787  20180507125159718000000023114911          卡号1   \n",
       "3          13  1809708  20180507121358683000000388283484          卡号1   \n",
       "4          14  2499829  20180507115448545000000388205844          卡号1   \n",
       "\n",
       "   low_volume_percent  middle_volume_percent  \\\n",
       "0                0.01                   0.99   \n",
       "1                0.02                   0.94   \n",
       "2                0.04                   0.96   \n",
       "3                0.00                   0.96   \n",
       "4                0.01                   0.99   \n",
       "\n",
       "   take_amount_in_later_12_month_highest  trans_amount_increase_rate_lately  \\\n",
       "0                                      0                               0.90   \n",
       "1                                   2000                               1.28   \n",
       "2                                      0                               1.00   \n",
       "3                                   2000                               0.13   \n",
       "4                                      0                               0.46   \n",
       "\n",
       "   trans_activity_month  trans_activity_day  ...  loans_max_limit  \\\n",
       "0                  0.55               0.313  ...           2900.0   \n",
       "1                  1.00               0.458  ...           3500.0   \n",
       "2                  1.00               0.114  ...           1600.0   \n",
       "3                  0.57               0.777  ...           3200.0   \n",
       "4                  1.00               0.175  ...           2300.0   \n",
       "\n",
       "   loans_avg_limit  consfin_credit_limit  consfin_credibility  \\\n",
       "0           1688.0                1200.0                 75.0   \n",
       "1           1758.0               15100.0                 80.0   \n",
       "2           1250.0                4200.0                 87.0   \n",
       "3           1541.0               16300.0                 80.0   \n",
       "4           1630.0                8300.0                 79.0   \n",
       "\n",
       "   consfin_org_count_current  consfin_product_count  consfin_max_limit  \\\n",
       "0                        1.0                    2.0             1200.0   \n",
       "1                        5.0                    6.0            22800.0   \n",
       "2                        1.0                    1.0             4200.0   \n",
       "3                        5.0                    5.0            30000.0   \n",
       "4                        2.0                    2.0             8400.0   \n",
       "\n",
       "   consfin_avg_limit  latest_query_day  loans_latest_day  \n",
       "0             1200.0              12.0              18.0  \n",
       "1             9360.0               4.0               2.0  \n",
       "2             4200.0               2.0               6.0  \n",
       "3            12180.0               2.0               4.0  \n",
       "4             8250.0              22.0             120.0  \n",
       "\n",
       "[5 rows x 90 columns]"
      ]
     },
     "execution_count": 2,
     "metadata": {},
     "output_type": "execute_result"
    }
   ],
   "source": [
    "data_orig = pd.read_csv(\"./data.csv\",encoding = 'gbk'\n",
    "                        #,converters = {'first_transaction_time':str}\n",
    "                       #,index_col = 0\n",
    "                       )   #读取文件\n",
    "data_orig.head()"
   ]
  },
  {
   "cell_type": "code",
   "execution_count": 3,
   "metadata": {},
   "outputs": [
    {
     "data": {
      "text/plain": [
       "0    1\n",
       "1    0\n",
       "2    1\n",
       "3    0\n",
       "4    1\n",
       "Name: status, dtype: int64"
      ]
     },
     "execution_count": 3,
     "metadata": {},
     "output_type": "execute_result"
    }
   ],
   "source": [
    "data_orig['status'][:5]  #观察一下结果标签"
   ]
  },
  {
   "cell_type": "code",
   "execution_count": 4,
   "metadata": {},
   "outputs": [
    {
     "name": "stdout",
     "output_type": "stream",
     "text": [
      "<class 'pandas.core.frame.DataFrame'>\n",
      "RangeIndex: 4754 entries, 0 to 4753\n",
      "Data columns (total 90 columns):\n",
      "Unnamed: 0                                    4754 non-null int64\n",
      "custid                                        4754 non-null int64\n",
      "trade_no                                      4754 non-null object\n",
      "bank_card_no                                  4754 non-null object\n",
      "low_volume_percent                            4752 non-null float64\n",
      "middle_volume_percent                         4752 non-null float64\n",
      "take_amount_in_later_12_month_highest         4754 non-null int64\n",
      "trans_amount_increase_rate_lately             4751 non-null float64\n",
      "trans_activity_month                          4752 non-null float64\n",
      "trans_activity_day                            4752 non-null float64\n",
      "transd_mcc                                    4752 non-null float64\n",
      "trans_days_interval_filter                    4746 non-null float64\n",
      "trans_days_interval                           4752 non-null float64\n",
      "regional_mobility                             4752 non-null float64\n",
      "student_feature                               1756 non-null float64\n",
      "repayment_capability                          4754 non-null int64\n",
      "is_high_user                                  4754 non-null int64\n",
      "number_of_trans_from_2011                     4752 non-null float64\n",
      "first_transaction_time                        4752 non-null float64\n",
      "historical_trans_amount                       4754 non-null int64\n",
      "historical_trans_day                          4752 non-null float64\n",
      "rank_trad_1_month                             4752 non-null float64\n",
      "trans_amount_3_month                          4754 non-null int64\n",
      "avg_consume_less_12_valid_month               4752 non-null float64\n",
      "abs                                           4754 non-null int64\n",
      "top_trans_count_last_1_month                  4752 non-null float64\n",
      "avg_price_last_12_month                       4754 non-null int64\n",
      "avg_price_top_last_12_valid_month             4650 non-null float64\n",
      "reg_preference_for_trad                       4752 non-null object\n",
      "trans_top_time_last_1_month                   4746 non-null float64\n",
      "trans_top_time_last_6_month                   4746 non-null float64\n",
      "consume_top_time_last_1_month                 4746 non-null float64\n",
      "consume_top_time_last_6_month                 4746 non-null float64\n",
      "cross_consume_count_last_1_month              4328 non-null float64\n",
      "trans_fail_top_count_enum_last_1_month        4738 non-null float64\n",
      "trans_fail_top_count_enum_last_6_month        4738 non-null float64\n",
      "trans_fail_top_count_enum_last_12_month       4738 non-null float64\n",
      "consume_mini_time_last_1_month                4728 non-null float64\n",
      "max_cumulative_consume_later_1_month          4754 non-null int64\n",
      "max_consume_count_later_6_month               4746 non-null float64\n",
      "railway_consume_count_last_12_month           4742 non-null float64\n",
      "pawns_auctions_trusts_consume_last_1_month    4754 non-null int64\n",
      "pawns_auctions_trusts_consume_last_6_month    4754 non-null int64\n",
      "jewelry_consume_count_last_6_month            4742 non-null float64\n",
      "status                                        4754 non-null int64\n",
      "source                                        4754 non-null object\n",
      "first_transaction_day                         4752 non-null float64\n",
      "trans_day_last_12_month                       4752 non-null float64\n",
      "id_name                                       4478 non-null object\n",
      "apply_score                                   4450 non-null float64\n",
      "apply_credibility                             4450 non-null float64\n",
      "query_org_count                               4450 non-null float64\n",
      "query_finance_count                           4450 non-null float64\n",
      "query_cash_count                              4450 non-null float64\n",
      "query_sum_count                               4450 non-null float64\n",
      "latest_query_time                             4450 non-null object\n",
      "latest_one_month_apply                        4450 non-null float64\n",
      "latest_three_month_apply                      4450 non-null float64\n",
      "latest_six_month_apply                        4450 non-null float64\n",
      "loans_score                                   4457 non-null float64\n",
      "loans_credibility_behavior                    4457 non-null float64\n",
      "loans_count                                   4457 non-null float64\n",
      "loans_settle_count                            4457 non-null float64\n",
      "loans_overdue_count                           4457 non-null float64\n",
      "loans_org_count_behavior                      4457 non-null float64\n",
      "consfin_org_count_behavior                    4457 non-null float64\n",
      "loans_cash_count                              4457 non-null float64\n",
      "latest_one_month_loan                         4457 non-null float64\n",
      "latest_three_month_loan                       4457 non-null float64\n",
      "latest_six_month_loan                         4457 non-null float64\n",
      "history_suc_fee                               4457 non-null float64\n",
      "history_fail_fee                              4457 non-null float64\n",
      "latest_one_month_suc                          4457 non-null float64\n",
      "latest_one_month_fail                         4457 non-null float64\n",
      "loans_long_time                               4457 non-null float64\n",
      "loans_latest_time                             4457 non-null object\n",
      "loans_credit_limit                            4457 non-null float64\n",
      "loans_credibility_limit                       4457 non-null float64\n",
      "loans_org_count_current                       4457 non-null float64\n",
      "loans_product_count                           4457 non-null float64\n",
      "loans_max_limit                               4457 non-null float64\n",
      "loans_avg_limit                               4457 non-null float64\n",
      "consfin_credit_limit                          4457 non-null float64\n",
      "consfin_credibility                           4457 non-null float64\n",
      "consfin_org_count_current                     4457 non-null float64\n",
      "consfin_product_count                         4457 non-null float64\n",
      "consfin_max_limit                             4457 non-null float64\n",
      "consfin_avg_limit                             4457 non-null float64\n",
      "latest_query_day                              4450 non-null float64\n",
      "loans_latest_day                              4457 non-null float64\n",
      "dtypes: float64(70), int64(13), object(7)\n",
      "memory usage: 3.3+ MB\n"
     ]
    }
   ],
   "source": [
    "data_orig.info()"
   ]
  },
  {
   "cell_type": "code",
   "execution_count": 5,
   "metadata": {},
   "outputs": [],
   "source": [
    "def overall(data):   #观察并打印特征的数据类型分布\n",
    "    typedic= {} # 类型字典\n",
    "    for name in data.columns:\n",
    "        typedic[str(data[name].dtype)] = typedic.get(str(data[name].dtype),[])+[name]\n",
    "    for key,value in typedic.items():\n",
    "        print('we have {} columns in type {}, they are {}\\\\'.format(len(value),key,value))"
   ]
  },
  {
   "cell_type": "code",
   "execution_count": 6,
   "metadata": {},
   "outputs": [
    {
     "name": "stdout",
     "output_type": "stream",
     "text": [
      "we have 13 columns in type int64, they are ['Unnamed: 0', 'custid', 'take_amount_in_later_12_month_highest', 'repayment_capability', 'is_high_user', 'historical_trans_amount', 'trans_amount_3_month', 'abs', 'avg_price_last_12_month', 'max_cumulative_consume_later_1_month', 'pawns_auctions_trusts_consume_last_1_month', 'pawns_auctions_trusts_consume_last_6_month', 'status']\\\n",
      "we have 7 columns in type object, they are ['trade_no', 'bank_card_no', 'reg_preference_for_trad', 'source', 'id_name', 'latest_query_time', 'loans_latest_time']\\\n",
      "we have 70 columns in type float64, they are ['low_volume_percent', 'middle_volume_percent', 'trans_amount_increase_rate_lately', 'trans_activity_month', 'trans_activity_day', 'transd_mcc', 'trans_days_interval_filter', 'trans_days_interval', 'regional_mobility', 'student_feature', 'number_of_trans_from_2011', 'first_transaction_time', 'historical_trans_day', 'rank_trad_1_month', 'avg_consume_less_12_valid_month', 'top_trans_count_last_1_month', 'avg_price_top_last_12_valid_month', 'trans_top_time_last_1_month', 'trans_top_time_last_6_month', 'consume_top_time_last_1_month', 'consume_top_time_last_6_month', 'cross_consume_count_last_1_month', 'trans_fail_top_count_enum_last_1_month', 'trans_fail_top_count_enum_last_6_month', 'trans_fail_top_count_enum_last_12_month', 'consume_mini_time_last_1_month', 'max_consume_count_later_6_month', 'railway_consume_count_last_12_month', 'jewelry_consume_count_last_6_month', 'first_transaction_day', 'trans_day_last_12_month', 'apply_score', 'apply_credibility', 'query_org_count', 'query_finance_count', 'query_cash_count', 'query_sum_count', 'latest_one_month_apply', 'latest_three_month_apply', 'latest_six_month_apply', 'loans_score', 'loans_credibility_behavior', 'loans_count', 'loans_settle_count', 'loans_overdue_count', 'loans_org_count_behavior', 'consfin_org_count_behavior', 'loans_cash_count', 'latest_one_month_loan', 'latest_three_month_loan', 'latest_six_month_loan', 'history_suc_fee', 'history_fail_fee', 'latest_one_month_suc', 'latest_one_month_fail', 'loans_long_time', 'loans_credit_limit', 'loans_credibility_limit', 'loans_org_count_current', 'loans_product_count', 'loans_max_limit', 'loans_avg_limit', 'consfin_credit_limit', 'consfin_credibility', 'consfin_org_count_current', 'consfin_product_count', 'consfin_max_limit', 'consfin_avg_limit', 'latest_query_day', 'loans_latest_day']\\\n"
     ]
    }
   ],
   "source": [
    "overall(data_orig)"
   ]
  },
  {
   "cell_type": "markdown",
   "metadata": {},
   "source": [
    "有7列是object类型，列名为['trade_no', 'bank_card_no', 'reg_preference_for_trad', 'source', 'id_name', 'latest_query_time', 'loans_latest_time']"
   ]
  },
  {
   "cell_type": "markdown",
   "metadata": {},
   "source": [
    "## 无关特征删除 "
   ]
  },
  {
   "cell_type": "markdown",
   "metadata": {},
   "source": [
    "特征删除原则：和标签列无关\n",
    "- 所有用户在该特征上取值相同\n",
    "- 部分无意义特征：如用户姓名等"
   ]
  },
  {
   "cell_type": "code",
   "execution_count": 7,
   "metadata": {},
   "outputs": [],
   "source": [
    "data = data_orig    #后证明是徒劳的，df是可变类型。"
   ]
  },
  {
   "cell_type": "code",
   "execution_count": 8,
   "metadata": {},
   "outputs": [],
   "source": [
    "def same_value_delete(data):\n",
    "    for name in data.columns:\n",
    "        if len(data[name].value_counts())==1:\n",
    "            data.drop(name,axis = 1,inplace = True)\n",
    "    return data"
   ]
  },
  {
   "cell_type": "code",
   "execution_count": 9,
   "metadata": {},
   "outputs": [],
   "source": [
    "data = same_value_delete(data)"
   ]
  },
  {
   "cell_type": "code",
   "execution_count": 10,
   "metadata": {},
   "outputs": [
    {
     "data": {
      "text/plain": [
       "(4754, 88)"
      ]
     },
     "execution_count": 10,
     "metadata": {},
     "output_type": "execute_result"
    }
   ],
   "source": [
    "data_orig.shape"
   ]
  },
  {
   "cell_type": "code",
   "execution_count": 11,
   "metadata": {},
   "outputs": [
    {
     "data": {
      "text/plain": [
       "(4754, 88)"
      ]
     },
     "execution_count": 11,
     "metadata": {},
     "output_type": "execute_result"
    }
   ],
   "source": [
    "data.shape"
   ]
  },
  {
   "cell_type": "markdown",
   "metadata": {},
   "source": [
    "观察无意义特征，类似于用户名，客户号等对是否逾期还款无意义  \n",
    "寻找原则：大概率出现在各种id中。  "
   ]
  },
  {
   "cell_type": "markdown",
   "metadata": {},
   "source": [
    "通过overall()可知we have 7 columns in type object, they are ['trade_no', 'bank_card_no', 'reg_preference_for_trad', 'source', 'id_name', 'latest_query_time', 'loans_latest_time']  \n",
    "当然某些特征可真能需要数据类型转换"
   ]
  },
  {
   "cell_type": "code",
   "execution_count": 12,
   "metadata": {},
   "outputs": [
    {
     "data": {
      "text/plain": [
       "0     5\n",
       "1    10\n",
       "2    12\n",
       "3    13\n",
       "4    14\n",
       "Name: Unnamed: 0, dtype: int64"
      ]
     },
     "execution_count": 12,
     "metadata": {},
     "output_type": "execute_result"
    }
   ],
   "source": [
    "data.iloc[:,0].head()"
   ]
  },
  {
   "cell_type": "markdown",
   "metadata": {},
   "source": [
    "第一列数据，由于没有给出数据说明不清楚数据含义。观察一下分布"
   ]
  },
  {
   "cell_type": "code",
   "execution_count": 13,
   "metadata": {},
   "outputs": [
    {
     "data": {
      "text/plain": [
       "<matplotlib.axes._subplots.AxesSubplot at 0xbdc8e10>"
      ]
     },
     "execution_count": 13,
     "metadata": {},
     "output_type": "execute_result"
    },
    {
     "data": {
      "image/png": "[encoded data removed]",
      "text/plain": [
       "<Figure size 432x288 with 1 Axes>"
      ]
     },
     "metadata": {
      "needs_background": "light"
     },
     "output_type": "display_data"
    }
   ],
   "source": [
    "data['Unnamed: 0'].hist()"
   ]
  },
  {
   "cell_type": "code",
   "execution_count": 14,
   "metadata": {},
   "outputs": [],
   "source": [
    "data.drop(columns='Unnamed: 0',inplace = True) #直接删掉"
   ]
  },
  {
   "cell_type": "code",
   "execution_count": 15,
   "metadata": {},
   "outputs": [
    {
     "data": {
      "text/plain": [
       "(4754, 87)"
      ]
     },
     "execution_count": 15,
     "metadata": {},
     "output_type": "execute_result"
    }
   ],
   "source": [
    "data.shape"
   ]
  },
  {
   "cell_type": "code",
   "execution_count": 16,
   "metadata": {},
   "outputs": [
    {
     "data": {
      "text/plain": [
       "4754"
      ]
     },
     "execution_count": 16,
     "metadata": {},
     "output_type": "execute_result"
    }
   ],
   "source": [
    "len(data['custid'].value_counts())"
   ]
  },
  {
   "cell_type": "markdown",
   "metadata": {},
   "source": [
    "顾客号，无意义，everyone is different"
   ]
  },
  {
   "cell_type": "code",
   "execution_count": 17,
   "metadata": {},
   "outputs": [],
   "source": [
    "del(data['custid'])"
   ]
  },
  {
   "cell_type": "code",
   "execution_count": 18,
   "metadata": {},
   "outputs": [
    {
     "data": {
      "text/plain": [
       "4754"
      ]
     },
     "execution_count": 18,
     "metadata": {},
     "output_type": "execute_result"
    }
   ],
   "source": [
    "#交易号 'trade_no'\n",
    "len(data['trade_no'].value_counts())"
   ]
  },
  {
   "cell_type": "markdown",
   "metadata": {},
   "source": [
    "交易号，同理无意义，删除"
   ]
  },
  {
   "cell_type": "code",
   "execution_count": 19,
   "metadata": {},
   "outputs": [],
   "source": [
    "del(data['trade_no'])"
   ]
  },
  {
   "cell_type": "code",
   "execution_count": 20,
   "metadata": {},
   "outputs": [
    {
     "data": {
      "text/plain": [
       "4309"
      ]
     },
     "execution_count": 20,
     "metadata": {},
     "output_type": "execute_result"
    }
   ],
   "source": [
    "# 'id_name'\n",
    "len(data['id_name'].value_counts())"
   ]
  },
  {
   "cell_type": "code",
   "execution_count": 21,
   "metadata": {},
   "outputs": [
    {
     "data": {
      "text/plain": [
       "0     蒋红\n",
       "1    崔向朝\n",
       "2    王中云\n",
       "Name: id_name, dtype: object"
      ]
     },
     "execution_count": 21,
     "metadata": {},
     "output_type": "execute_result"
    }
   ],
   "source": [
    "data['id_name'].head(3)"
   ]
  },
  {
   "cell_type": "markdown",
   "metadata": {},
   "source": [
    "客户名字。无意义删掉"
   ]
  },
  {
   "cell_type": "code",
   "execution_count": 22,
   "metadata": {},
   "outputs": [],
   "source": [
    "del(data['id_name'])"
   ]
  },
  {
   "cell_type": "code",
   "execution_count": 23,
   "metadata": {},
   "outputs": [
    {
     "data": {
      "text/plain": [
       "(4754, 84)"
      ]
     },
     "execution_count": 23,
     "metadata": {},
     "output_type": "execute_result"
    }
   ],
   "source": [
    "data.shape"
   ]
  },
  {
   "cell_type": "markdown",
   "metadata": {},
   "source": [
    "## 类型转换"
   ]
  },
  {
   "cell_type": "code",
   "execution_count": 24,
   "metadata": {},
   "outputs": [
    {
     "name": "stdout",
     "output_type": "stream",
     "text": [
      "we have 70 columns in type float64, they are ['low_volume_percent', 'middle_volume_percent', 'trans_amount_increase_rate_lately', 'trans_activity_month', 'trans_activity_day', 'transd_mcc', 'trans_days_interval_filter', 'trans_days_interval', 'regional_mobility', 'student_feature', 'number_of_trans_from_2011', 'first_transaction_time', 'historical_trans_day', 'rank_trad_1_month', 'avg_consume_less_12_valid_month', 'top_trans_count_last_1_month', 'avg_price_top_last_12_valid_month', 'trans_top_time_last_1_month', 'trans_top_time_last_6_month', 'consume_top_time_last_1_month', 'consume_top_time_last_6_month', 'cross_consume_count_last_1_month', 'trans_fail_top_count_enum_last_1_month', 'trans_fail_top_count_enum_last_6_month', 'trans_fail_top_count_enum_last_12_month', 'consume_mini_time_last_1_month', 'max_consume_count_later_6_month', 'railway_consume_count_last_12_month', 'jewelry_consume_count_last_6_month', 'first_transaction_day', 'trans_day_last_12_month', 'apply_score', 'apply_credibility', 'query_org_count', 'query_finance_count', 'query_cash_count', 'query_sum_count', 'latest_one_month_apply', 'latest_three_month_apply', 'latest_six_month_apply', 'loans_score', 'loans_credibility_behavior', 'loans_count', 'loans_settle_count', 'loans_overdue_count', 'loans_org_count_behavior', 'consfin_org_count_behavior', 'loans_cash_count', 'latest_one_month_loan', 'latest_three_month_loan', 'latest_six_month_loan', 'history_suc_fee', 'history_fail_fee', 'latest_one_month_suc', 'latest_one_month_fail', 'loans_long_time', 'loans_credit_limit', 'loans_credibility_limit', 'loans_org_count_current', 'loans_product_count', 'loans_max_limit', 'loans_avg_limit', 'consfin_credit_limit', 'consfin_credibility', 'consfin_org_count_current', 'consfin_product_count', 'consfin_max_limit', 'consfin_avg_limit', 'latest_query_day', 'loans_latest_day']\\\n",
      "we have 11 columns in type int64, they are ['take_amount_in_later_12_month_highest', 'repayment_capability', 'is_high_user', 'historical_trans_amount', 'trans_amount_3_month', 'abs', 'avg_price_last_12_month', 'max_cumulative_consume_later_1_month', 'pawns_auctions_trusts_consume_last_1_month', 'pawns_auctions_trusts_consume_last_6_month', 'status']\\\n",
      "we have 3 columns in type object, they are ['reg_preference_for_trad', 'latest_query_time', 'loans_latest_time']\\\n"
     ]
    }
   ],
   "source": [
    "overall(data)"
   ]
  },
  {
   "cell_type": "markdown",
   "metadata": {},
   "source": [
    "有三个非数值型数据需要处理，后面两个是时间，统一改成datetime64[ns].之后时间就可以做加减运算了  \n",
    "后来因为相关性分析的时候需要float类型，所以改成了datetime64[ns]"
   ]
  },
  {
   "cell_type": "code",
   "execution_count": 25,
   "metadata": {},
   "outputs": [
    {
     "data": {
      "text/plain": [
       "5"
      ]
     },
     "execution_count": 25,
     "metadata": {},
     "output_type": "execute_result"
    }
   ],
   "source": [
    "len(data['reg_preference_for_trad'].value_counts())"
   ]
  },
  {
   "cell_type": "code",
   "execution_count": 26,
   "metadata": {},
   "outputs": [
    {
     "data": {
      "text/plain": [
       "一线城市    3403\n",
       "三线城市    1064\n",
       "境外       150\n",
       "二线城市     131\n",
       "其他城市       4\n",
       "Name: reg_preference_for_trad, dtype: int64"
      ]
     },
     "execution_count": 26,
     "metadata": {},
     "output_type": "execute_result"
    }
   ],
   "source": [
    "data['reg_preference_for_trad'].value_counts()"
   ]
  },
  {
   "cell_type": "code",
   "execution_count": 27,
   "metadata": {},
   "outputs": [],
   "source": [
    "data['reg_preference_for_trad'].replace({'一线城市':1,'二线城市'\n",
    "                                         :2,'三线城市':3,'境外':4,'其他城市':5},inplace = True)"
   ]
  },
  {
   "cell_type": "code",
   "execution_count": 28,
   "metadata": {},
   "outputs": [
    {
     "name": "stdout",
     "output_type": "stream",
     "text": [
      "<class 'pandas.core.frame.DataFrame'>\n",
      "RangeIndex: 4754 entries, 0 to 4753\n",
      "Data columns (total 2 columns):\n",
      "loans_latest_time    4457 non-null object\n",
      "latest_query_time    4450 non-null object\n",
      "dtypes: object(2)\n",
      "memory usage: 74.4+ KB\n"
     ]
    }
   ],
   "source": [
    "#处理时间\n",
    "data.loc[:,['loans_latest_time','latest_query_time']].info()"
   ]
  },
  {
   "cell_type": "code",
   "execution_count": 29,
   "metadata": {},
   "outputs": [
    {
     "data": {
      "text/html": [
       "<div>\n",
       "<style scoped>\n",
       "    .dataframe tbody tr th:only-of-type {\n",
       "        vertical-align: middle;\n",
       "    }\n",
       "\n",
       "    .dataframe tbody tr th {\n",
       "        vertical-align: top;\n",
       "    }\n",
       "\n",
       "    .dataframe thead th {\n",
       "        text-align: right;\n",
       "    }\n",
       "</style>\n",
       "<table border=\"1\" class=\"dataframe\">\n",
       "  <thead>\n",
       "    <tr style=\"text-align: right;\">\n",
       "      <th></th>\n",
       "      <th>loans_latest_time</th>\n",
       "      <th>latest_query_time</th>\n",
       "    </tr>\n",
       "  </thead>\n",
       "  <tbody>\n",
       "    <tr>\n",
       "      <th>0</th>\n",
       "      <td>2018-04-19</td>\n",
       "      <td>2018-04-25</td>\n",
       "    </tr>\n",
       "    <tr>\n",
       "      <th>1</th>\n",
       "      <td>2018-05-05</td>\n",
       "      <td>2018-05-03</td>\n",
       "    </tr>\n",
       "    <tr>\n",
       "      <th>2</th>\n",
       "      <td>2018-05-01</td>\n",
       "      <td>2018-05-05</td>\n",
       "    </tr>\n",
       "  </tbody>\n",
       "</table>\n",
       "</div>"
      ],
      "text/plain": [
       "  loans_latest_time latest_query_time\n",
       "0        2018-04-19        2018-04-25\n",
       "1        2018-05-05        2018-05-03\n",
       "2        2018-05-01        2018-05-05"
      ]
     },
     "execution_count": 29,
     "metadata": {},
     "output_type": "execute_result"
    }
   ],
   "source": [
    "data.loc[:,['loans_latest_time','latest_query_time']].head(3)"
   ]
  },
  {
   "cell_type": "code",
   "execution_count": 30,
   "metadata": {},
   "outputs": [],
   "source": [
    "data['latest_query_time']=data['latest_query_time'].apply(lambda x:float(str(x)[:4]+str(x)[5:7]+str(x)[8:]))\n",
    "data['loans_latest_time']=data['loans_latest_time'].apply(lambda x:float(str(x)[:4]+str(x)[5:7]+str(x)[8:]))"
   ]
  },
  {
   "cell_type": "code",
   "execution_count": 31,
   "metadata": {},
   "outputs": [
    {
     "data": {
      "text/html": [
       "<div>\n",
       "<style scoped>\n",
       "    .dataframe tbody tr th:only-of-type {\n",
       "        vertical-align: middle;\n",
       "    }\n",
       "\n",
       "    .dataframe tbody tr th {\n",
       "        vertical-align: top;\n",
       "    }\n",
       "\n",
       "    .dataframe thead th {\n",
       "        text-align: right;\n",
       "    }\n",
       "</style>\n",
       "<table border=\"1\" class=\"dataframe\">\n",
       "  <thead>\n",
       "    <tr style=\"text-align: right;\">\n",
       "      <th></th>\n",
       "      <th>loans_latest_time</th>\n",
       "      <th>latest_query_time</th>\n",
       "    </tr>\n",
       "  </thead>\n",
       "  <tbody>\n",
       "    <tr>\n",
       "      <th>0</th>\n",
       "      <td>20180419.0</td>\n",
       "      <td>20180425.0</td>\n",
       "    </tr>\n",
       "    <tr>\n",
       "      <th>1</th>\n",
       "      <td>20180505.0</td>\n",
       "      <td>20180503.0</td>\n",
       "    </tr>\n",
       "    <tr>\n",
       "      <th>2</th>\n",
       "      <td>20180501.0</td>\n",
       "      <td>20180505.0</td>\n",
       "    </tr>\n",
       "  </tbody>\n",
       "</table>\n",
       "</div>"
      ],
      "text/plain": [
       "   loans_latest_time  latest_query_time\n",
       "0         20180419.0         20180425.0\n",
       "1         20180505.0         20180503.0\n",
       "2         20180501.0         20180505.0"
      ]
     },
     "execution_count": 31,
     "metadata": {},
     "output_type": "execute_result"
    }
   ],
   "source": [
    "data.loc[:,['loans_latest_time','latest_query_time']].head(3)"
   ]
  },
  {
   "cell_type": "markdown",
   "metadata": {},
   "source": [
    "## 缺失值处理"
   ]
  },
  {
   "cell_type": "code",
   "execution_count": 32,
   "metadata": {},
   "outputs": [
    {
     "name": "stdout",
     "output_type": "stream",
     "text": [
      "<class 'pandas.core.frame.DataFrame'>\n",
      "RangeIndex: 4754 entries, 0 to 4753\n",
      "Data columns (total 84 columns):\n",
      "low_volume_percent                            4752 non-null float64\n",
      "middle_volume_percent                         4752 non-null float64\n",
      "take_amount_in_later_12_month_highest         4754 non-null int64\n",
      "trans_amount_increase_rate_lately             4751 non-null float64\n",
      "trans_activity_month                          4752 non-null float64\n",
      "trans_activity_day                            4752 non-null float64\n",
      "transd_mcc                                    4752 non-null float64\n",
      "trans_days_interval_filter                    4746 non-null float64\n",
      "trans_days_interval                           4752 non-null float64\n",
      "regional_mobility                             4752 non-null float64\n",
      "student_feature                               1756 non-null float64\n",
      "repayment_capability                          4754 non-null int64\n",
      "is_high_user                                  4754 non-null int64\n",
      "number_of_trans_from_2011                     4752 non-null float64\n",
      "first_transaction_time                        4752 non-null float64\n",
      "historical_trans_amount                       4754 non-null int64\n",
      "historical_trans_day                          4752 non-null float64\n",
      "rank_trad_1_month                             4752 non-null float64\n",
      "trans_amount_3_month                          4754 non-null int64\n",
      "avg_consume_less_12_valid_month               4752 non-null float64\n",
      "abs                                           4754 non-null int64\n",
      "top_trans_count_last_1_month                  4752 non-null float64\n",
      "avg_price_last_12_month                       4754 non-null int64\n",
      "avg_price_top_last_12_valid_month             4650 non-null float64\n",
      "reg_preference_for_trad                       4752 non-null float64\n",
      "trans_top_time_last_1_month                   4746 non-null float64\n",
      "trans_top_time_last_6_month                   4746 non-null float64\n",
      "consume_top_time_last_1_month                 4746 non-null float64\n",
      "consume_top_time_last_6_month                 4746 non-null float64\n",
      "cross_consume_count_last_1_month              4328 non-null float64\n",
      "trans_fail_top_count_enum_last_1_month        4738 non-null float64\n",
      "trans_fail_top_count_enum_last_6_month        4738 non-null float64\n",
      "trans_fail_top_count_enum_last_12_month       4738 non-null float64\n",
      "consume_mini_time_last_1_month                4728 non-null float64\n",
      "max_cumulative_consume_later_1_month          4754 non-null int64\n",
      "max_consume_count_later_6_month               4746 non-null float64\n",
      "railway_consume_count_last_12_month           4742 non-null float64\n",
      "pawns_auctions_trusts_consume_last_1_month    4754 non-null int64\n",
      "pawns_auctions_trusts_consume_last_6_month    4754 non-null int64\n",
      "jewelry_consume_count_last_6_month            4742 non-null float64\n",
      "status                                        4754 non-null int64\n",
      "first_transaction_day                         4752 non-null float64\n",
      "trans_day_last_12_month                       4752 non-null float64\n",
      "apply_score                                   4450 non-null float64\n",
      "apply_credibility                             4450 non-null float64\n",
      "query_org_count                               4450 non-null float64\n",
      "query_finance_count                           4450 non-null float64\n",
      "query_cash_count                              4450 non-null float64\n",
      "query_sum_count                               4450 non-null float64\n",
      "latest_query_time                             4450 non-null float64\n",
      "latest_one_month_apply                        4450 non-null float64\n",
      "latest_three_month_apply                      4450 non-null float64\n",
      "latest_six_month_apply                        4450 non-null float64\n",
      "loans_score                                   4457 non-null float64\n",
      "loans_credibility_behavior                    4457 non-null float64\n",
      "loans_count                                   4457 non-null float64\n",
      "loans_settle_count                            4457 non-null float64\n",
      "loans_overdue_count                           4457 non-null float64\n",
      "loans_org_count_behavior                      4457 non-null float64\n",
      "consfin_org_count_behavior                    4457 non-null float64\n",
      "loans_cash_count                              4457 non-null float64\n",
      "latest_one_month_loan                         4457 non-null float64\n",
      "latest_three_month_loan                       4457 non-null float64\n",
      "latest_six_month_loan                         4457 non-null float64\n",
      "history_suc_fee                               4457 non-null float64\n",
      "history_fail_fee                              4457 non-null float64\n",
      "latest_one_month_suc                          4457 non-null float64\n",
      "latest_one_month_fail                         4457 non-null float64\n",
      "loans_long_time                               4457 non-null float64\n",
      "loans_latest_time                             4457 non-null float64\n",
      "loans_credit_limit                            4457 non-null float64\n",
      "loans_credibility_limit                       4457 non-null float64\n",
      "loans_org_count_current                       4457 non-null float64\n",
      "loans_product_count                           4457 non-null float64\n",
      "loans_max_limit                               4457 non-null float64\n",
      "loans_avg_limit                               4457 non-null float64\n",
      "consfin_credit_limit                          4457 non-null float64\n",
      "consfin_credibility                           4457 non-null float64\n",
      "consfin_org_count_current                     4457 non-null float64\n",
      "consfin_product_count                         4457 non-null float64\n",
      "consfin_max_limit                             4457 non-null float64\n",
      "consfin_avg_limit                             4457 non-null float64\n",
      "latest_query_day                              4450 non-null float64\n",
      "loans_latest_day                              4457 non-null float64\n",
      "dtypes: float64(73), int64(11)\n",
      "memory usage: 3.0 MB\n"
     ]
    }
   ],
   "source": [
    "data.info()"
   ]
  },
  {
   "cell_type": "code",
   "execution_count": 33,
   "metadata": {},
   "outputs": [
    {
     "name": "stdout",
     "output_type": "stream",
     "text": [
      "we have 73 columns in type float64, they are ['low_volume_percent', 'middle_volume_percent', 'trans_amount_increase_rate_lately', 'trans_activity_month', 'trans_activity_day', 'transd_mcc', 'trans_days_interval_filter', 'trans_days_interval', 'regional_mobility', 'student_feature', 'number_of_trans_from_2011', 'first_transaction_time', 'historical_trans_day', 'rank_trad_1_month', 'avg_consume_less_12_valid_month', 'top_trans_count_last_1_month', 'avg_price_top_last_12_valid_month', 'reg_preference_for_trad', 'trans_top_time_last_1_month', 'trans_top_time_last_6_month', 'consume_top_time_last_1_month', 'consume_top_time_last_6_month', 'cross_consume_count_last_1_month', 'trans_fail_top_count_enum_last_1_month', 'trans_fail_top_count_enum_last_6_month', 'trans_fail_top_count_enum_last_12_month', 'consume_mini_time_last_1_month', 'max_consume_count_later_6_month', 'railway_consume_count_last_12_month', 'jewelry_consume_count_last_6_month', 'first_transaction_day', 'trans_day_last_12_month', 'apply_score', 'apply_credibility', 'query_org_count', 'query_finance_count', 'query_cash_count', 'query_sum_count', 'latest_query_time', 'latest_one_month_apply', 'latest_three_month_apply', 'latest_six_month_apply', 'loans_score', 'loans_credibility_behavior', 'loans_count', 'loans_settle_count', 'loans_overdue_count', 'loans_org_count_behavior', 'consfin_org_count_behavior', 'loans_cash_count', 'latest_one_month_loan', 'latest_three_month_loan', 'latest_six_month_loan', 'history_suc_fee', 'history_fail_fee', 'latest_one_month_suc', 'latest_one_month_fail', 'loans_long_time', 'loans_latest_time', 'loans_credit_limit', 'loans_credibility_limit', 'loans_org_count_current', 'loans_product_count', 'loans_max_limit', 'loans_avg_limit', 'consfin_credit_limit', 'consfin_credibility', 'consfin_org_count_current', 'consfin_product_count', 'consfin_max_limit', 'consfin_avg_limit', 'latest_query_day', 'loans_latest_day']\\\n",
      "we have 11 columns in type int64, they are ['take_amount_in_later_12_month_highest', 'repayment_capability', 'is_high_user', 'historical_trans_amount', 'trans_amount_3_month', 'abs', 'avg_price_last_12_month', 'max_cumulative_consume_later_1_month', 'pawns_auctions_trusts_consume_last_1_month', 'pawns_auctions_trusts_consume_last_6_month', 'status']\\\n"
     ]
    }
   ],
   "source": [
    "overall(data)"
   ]
  },
  {
   "cell_type": "code",
   "execution_count": 34,
   "metadata": {},
   "outputs": [
    {
     "data": {
      "text/plain": [
       "NaN    2998\n",
       "1.0    1754\n",
       "2.0       2\n",
       "Name: student_feature, dtype: int64"
      ]
     },
     "execution_count": 34,
     "metadata": {},
     "output_type": "execute_result"
    }
   ],
   "source": [
    "#缺失最明显的特征\n",
    "data['student_feature'].value_counts(dropna=False)   #参数表示缺失值也要统计"
   ]
  },
  {
   "cell_type": "code",
   "execution_count": 35,
   "metadata": {},
   "outputs": [
    {
     "data": {
      "text/plain": [
       "0.6306268405553218"
      ]
     },
     "execution_count": 35,
     "metadata": {},
     "output_type": "execute_result"
    }
   ],
   "source": [
    "2998/4754"
   ]
  },
  {
   "cell_type": "markdown",
   "metadata": {},
   "source": [
    "缺失率60%多。但是是否有意义，还要看看和标签列的相关性"
   ]
  },
  {
   "cell_type": "code",
   "execution_count": 36,
   "metadata": {},
   "outputs": [
    {
     "data": {
      "text/plain": [
       "0    3561\n",
       "1    1193\n",
       "Name: status, dtype: int64"
      ]
     },
     "execution_count": 36,
     "metadata": {},
     "output_type": "execute_result"
    }
   ],
   "source": [
    "data['status'].value_counts(dropna=False)"
   ]
  },
  {
   "cell_type": "code",
   "execution_count": 37,
   "metadata": {},
   "outputs": [
    {
     "data": {
      "text/plain": [
       "<matplotlib.axes._subplots.AxesSubplot at 0xc3e8748>"
      ]
     },
     "execution_count": 37,
     "metadata": {},
     "output_type": "execute_result"
    },
    {
     "data": {
      "image/png": "[encoded data removed]",
      "text/plain": [
       "<Figure size 432x288 with 1 Axes>"
      ]
     },
     "metadata": {
      "needs_background": "light"
     },
     "output_type": "display_data"
    }
   ],
   "source": [
    "sns.countplot(data = data, x = 'student_feature', hue = 'status')"
   ]
  },
  {
   "cell_type": "code",
   "execution_count": 38,
   "metadata": {},
   "outputs": [
    {
     "data": {
      "text/plain": [
       "2989    0\n",
       "2991    1\n",
       "Name: status, dtype: int64"
      ]
     },
     "execution_count": 38,
     "metadata": {},
     "output_type": "execute_result"
    }
   ],
   "source": [
    "data[data['student_feature']==2.0]['status']"
   ]
  },
  {
   "cell_type": "markdown",
   "metadata": {},
   "source": [
    "看不出有什么有什么相关性，所以drop掉"
   ]
  },
  {
   "cell_type": "code",
   "execution_count": 39,
   "metadata": {},
   "outputs": [],
   "source": [
    "del(data['student_feature'])"
   ]
  },
  {
   "cell_type": "markdown",
   "metadata": {},
   "source": [
    "再从行的角度，也就是样本的角度看看NA的分布"
   ]
  },
  {
   "cell_type": "code",
   "execution_count": 40,
   "metadata": {},
   "outputs": [
    {
     "name": "stdout",
     "output_type": "stream",
     "text": [
      "<class 'pandas.core.frame.DataFrame'>\n",
      "Int64Index: 771 entries, 6 to 4748\n",
      "Data columns (total 83 columns):\n",
      "low_volume_percent                            769 non-null float64\n",
      "middle_volume_percent                         769 non-null float64\n",
      "take_amount_in_later_12_month_highest         771 non-null int64\n",
      "trans_amount_increase_rate_lately             768 non-null float64\n",
      "trans_activity_month                          769 non-null float64\n",
      "trans_activity_day                            769 non-null float64\n",
      "transd_mcc                                    769 non-null float64\n",
      "trans_days_interval_filter                    763 non-null float64\n",
      "trans_days_interval                           769 non-null float64\n",
      "regional_mobility                             769 non-null float64\n",
      "repayment_capability                          771 non-null int64\n",
      "is_high_user                                  771 non-null int64\n",
      "number_of_trans_from_2011                     769 non-null float64\n",
      "first_transaction_time                        769 non-null float64\n",
      "historical_trans_amount                       771 non-null int64\n",
      "historical_trans_day                          769 non-null float64\n",
      "rank_trad_1_month                             769 non-null float64\n",
      "trans_amount_3_month                          771 non-null int64\n",
      "avg_consume_less_12_valid_month               769 non-null float64\n",
      "abs                                           771 non-null int64\n",
      "top_trans_count_last_1_month                  769 non-null float64\n",
      "avg_price_last_12_month                       771 non-null int64\n",
      "avg_price_top_last_12_valid_month             667 non-null float64\n",
      "reg_preference_for_trad                       769 non-null float64\n",
      "trans_top_time_last_1_month                   763 non-null float64\n",
      "trans_top_time_last_6_month                   763 non-null float64\n",
      "consume_top_time_last_1_month                 763 non-null float64\n",
      "consume_top_time_last_6_month                 763 non-null float64\n",
      "cross_consume_count_last_1_month              345 non-null float64\n",
      "trans_fail_top_count_enum_last_1_month        755 non-null float64\n",
      "trans_fail_top_count_enum_last_6_month        755 non-null float64\n",
      "trans_fail_top_count_enum_last_12_month       755 non-null float64\n",
      "consume_mini_time_last_1_month                745 non-null float64\n",
      "max_cumulative_consume_later_1_month          771 non-null int64\n",
      "max_consume_count_later_6_month               763 non-null float64\n",
      "railway_consume_count_last_12_month           759 non-null float64\n",
      "pawns_auctions_trusts_consume_last_1_month    771 non-null int64\n",
      "pawns_auctions_trusts_consume_last_6_month    771 non-null int64\n",
      "jewelry_consume_count_last_6_month            759 non-null float64\n",
      "status                                        771 non-null int64\n",
      "first_transaction_day                         769 non-null float64\n",
      "trans_day_last_12_month                       769 non-null float64\n",
      "apply_score                                   467 non-null float64\n",
      "apply_credibility                             467 non-null float64\n",
      "query_org_count                               467 non-null float64\n",
      "query_finance_count                           467 non-null float64\n",
      "query_cash_count                              467 non-null float64\n",
      "query_sum_count                               467 non-null float64\n",
      "latest_query_time                             467 non-null float64\n",
      "latest_one_month_apply                        467 non-null float64\n",
      "latest_three_month_apply                      467 non-null float64\n",
      "latest_six_month_apply                        467 non-null float64\n",
      "loans_score                                   474 non-null float64\n",
      "loans_credibility_behavior                    474 non-null float64\n",
      "loans_count                                   474 non-null float64\n",
      "loans_settle_count                            474 non-null float64\n",
      "loans_overdue_count                           474 non-null float64\n",
      "loans_org_count_behavior                      474 non-null float64\n",
      "consfin_org_count_behavior                    474 non-null float64\n",
      "loans_cash_count                              474 non-null float64\n",
      "latest_one_month_loan                         474 non-null float64\n",
      "latest_three_month_loan                       474 non-null float64\n",
      "latest_six_month_loan                         474 non-null float64\n",
      "history_suc_fee                               474 non-null float64\n",
      "history_fail_fee                              474 non-null float64\n",
      "latest_one_month_suc                          474 non-null float64\n",
      "latest_one_month_fail                         474 non-null float64\n",
      "loans_long_time                               474 non-null float64\n",
      "loans_latest_time                             474 non-null float64\n",
      "loans_credit_limit                            474 non-null float64\n",
      "loans_credibility_limit                       474 non-null float64\n",
      "loans_org_count_current                       474 non-null float64\n",
      "loans_product_count                           474 non-null float64\n",
      "loans_max_limit                               474 non-null float64\n",
      "loans_avg_limit                               474 non-null float64\n",
      "consfin_credit_limit                          474 non-null float64\n",
      "consfin_credibility                           474 non-null float64\n",
      "consfin_org_count_current                     474 non-null float64\n",
      "consfin_product_count                         474 non-null float64\n",
      "consfin_max_limit                             474 non-null float64\n",
      "consfin_avg_limit                             474 non-null float64\n",
      "latest_query_day                              467 non-null float64\n",
      "loans_latest_day                              474 non-null float64\n",
      "dtypes: float64(72), int64(11)\n",
      "memory usage: 506.0 KB\n"
     ]
    }
   ],
   "source": [
    "data[data.isnull().T.any()].info()"
   ]
  },
  {
   "cell_type": "code",
   "execution_count": 41,
   "metadata": {},
   "outputs": [
    {
     "data": {
      "text/plain": [
       "0.8378207824989483"
      ]
     },
     "execution_count": 41,
     "metadata": {},
     "output_type": "execute_result"
    }
   ],
   "source": [
    "1-771/4754"
   ]
  },
  {
   "cell_type": "markdown",
   "metadata": {},
   "source": [
    "如果把带有NA的行全部drop,还能保留83.78%的数据，姑且认为对模型的影响较小"
   ]
  },
  {
   "cell_type": "code",
   "execution_count": 42,
   "metadata": {},
   "outputs": [
    {
     "data": {
      "text/plain": [
       "(3983, 83)"
      ]
     },
     "execution_count": 42,
     "metadata": {},
     "output_type": "execute_result"
    }
   ],
   "source": [
    "data.dropna(inplace=True)\n",
    "data.shape"
   ]
  },
  {
   "cell_type": "code",
   "execution_count": 43,
   "metadata": {},
   "outputs": [
    {
     "data": {
      "text/plain": [
       "0"
      ]
     },
     "execution_count": 43,
     "metadata": {},
     "output_type": "execute_result"
    }
   ],
   "source": [
    "data.T.isnull().any().sum()"
   ]
  },
  {
   "cell_type": "code",
   "execution_count": 44,
   "metadata": {},
   "outputs": [
    {
     "data": {
      "text/plain": [
       "0"
      ]
     },
     "execution_count": 44,
     "metadata": {},
     "output_type": "execute_result"
    }
   ],
   "source": [
    "data.isnull().any().sum()"
   ]
  },
  {
   "cell_type": "markdown",
   "metadata": {},
   "source": [
    "## 离群值处理\n",
    "- 判断：观察分布 画箱图等\n",
    "- 危害：影响统计特征比如均值、方差等的计算\n",
    "- 方法：对数转换/缩尾/截尾/插值"
   ]
  },
  {
   "cell_type": "markdown",
   "metadata": {},
   "source": [
    "暂时没找到想要尝试的方法，先划分数据集 然后进入特征工程吧"
   ]
  },
  {
   "cell_type": "markdown",
   "metadata": {},
   "source": [
    "### 数据集划分"
   ]
  },
  {
   "cell_type": "code",
   "execution_count": 45,
   "metadata": {},
   "outputs": [],
   "source": [
    "features = [x for x in data.columns if x not in ['status']]"
   ]
  },
  {
   "cell_type": "code",
   "execution_count": 46,
   "metadata": {},
   "outputs": [],
   "source": [
    "from sklearn.model_selection import train_test_split\n",
    "X = data[features]\n",
    "y = data.status\n",
    "\n",
    "X_train, X_test, y_train, y_test = train_test_split(X, y, test_size=0.3,random_state=2018)"
   ]
  },
  {
   "cell_type": "code",
   "execution_count": 47,
   "metadata": {},
   "outputs": [
    {
     "data": {
      "text/plain": [
       "(2788, 82)"
      ]
     },
     "execution_count": 47,
     "metadata": {},
     "output_type": "execute_result"
    }
   ],
   "source": [
    "X_train.shape"
   ]
  },
  {
   "cell_type": "code",
   "execution_count": 48,
   "metadata": {},
   "outputs": [
    {
     "data": {
      "text/plain": [
       "(1195, 82)"
      ]
     },
     "execution_count": 48,
     "metadata": {},
     "output_type": "execute_result"
    }
   ],
   "source": [
    "X_test.shape"
   ]
  },
  {
   "cell_type": "code",
   "execution_count": 49,
   "metadata": {},
   "outputs": [
    {
     "data": {
      "text/plain": [
       "array([], dtype=object)"
      ]
     },
     "execution_count": 49,
     "metadata": {},
     "output_type": "execute_result"
    }
   ],
   "source": [
    "#features[int_columns].head(3)\n",
    "X_train.select_dtypes(include=['object']).columns.values"
   ]
  },
  {
   "cell_type": "code",
   "execution_count": 50,
   "metadata": {},
   "outputs": [
    {
     "data": {
      "text/html": [
       "<div>\n",
       "<style scoped>\n",
       "    .dataframe tbody tr th:only-of-type {\n",
       "        vertical-align: middle;\n",
       "    }\n",
       "\n",
       "    .dataframe tbody tr th {\n",
       "        vertical-align: top;\n",
       "    }\n",
       "\n",
       "    .dataframe thead th {\n",
       "        text-align: right;\n",
       "    }\n",
       "</style>\n",
       "<table border=\"1\" class=\"dataframe\">\n",
       "  <thead>\n",
       "    <tr style=\"text-align: right;\">\n",
       "      <th></th>\n",
       "      <th>loans_latest_time</th>\n",
       "      <th>latest_query_time</th>\n",
       "    </tr>\n",
       "  </thead>\n",
       "  <tbody>\n",
       "    <tr>\n",
       "      <th>2007</th>\n",
       "      <td>20180412.0</td>\n",
       "      <td>20180414.0</td>\n",
       "    </tr>\n",
       "    <tr>\n",
       "      <th>3782</th>\n",
       "      <td>20180418.0</td>\n",
       "      <td>20180425.0</td>\n",
       "    </tr>\n",
       "    <tr>\n",
       "      <th>1246</th>\n",
       "      <td>20171228.0</td>\n",
       "      <td>20180406.0</td>\n",
       "    </tr>\n",
       "  </tbody>\n",
       "</table>\n",
       "</div>"
      ],
      "text/plain": [
       "      loans_latest_time  latest_query_time\n",
       "2007         20180412.0         20180414.0\n",
       "3782         20180418.0         20180425.0\n",
       "1246         20171228.0         20180406.0"
      ]
     },
     "execution_count": 50,
     "metadata": {},
     "output_type": "execute_result"
    }
   ],
   "source": [
    "X_train.loc[:,['loans_latest_time','latest_query_time']].head(3)"
   ]
  },
  {
   "cell_type": "code",
   "execution_count": 51,
   "metadata": {},
   "outputs": [
    {
     "data": {
      "text/plain": [
       "34"
      ]
     },
     "execution_count": 51,
     "metadata": {},
     "output_type": "execute_result"
    }
   ],
   "source": [
    "from sklearn.feature_selection import mutual_info_classif as MIC\n",
    "result_MIC = MIC(X_train,y_train)\n",
    "sum(result_MIC<=0)"
   ]
  },
  {
   "cell_type": "markdown",
   "metadata": {},
   "source": [
    "## 模型尝试"
   ]
  },
  {
   "cell_type": "markdown",
   "metadata": {},
   "source": [
    "### 决策树"
   ]
  },
  {
   "cell_type": "code",
   "execution_count": 52,
   "metadata": {},
   "outputs": [
    {
     "data": {
      "text/plain": [
       "DecisionTreeClassifier(class_weight=None, criterion='gini', max_depth=4,\n",
       "            max_features=None, max_leaf_nodes=None,\n",
       "            min_impurity_decrease=0.0, min_impurity_split=None,\n",
       "            min_samples_leaf=1, min_samples_split=2,\n",
       "            min_weight_fraction_leaf=0.0, presort=False, random_state=None,\n",
       "            splitter='best')"
      ]
     },
     "execution_count": 52,
     "metadata": {},
     "output_type": "execute_result"
    }
   ],
   "source": [
    "from sklearn.tree import DecisionTreeClassifier\n",
    "\n",
    "dt = DecisionTreeClassifier(max_depth=4)\n",
    "dt.fit(X_train, y_train)"
   ]
  },
  {
   "cell_type": "markdown",
   "metadata": {},
   "source": [
    "## 模型评估\n",
    "\n",
    "> 观察accuracy、precision，recall和f1-score、auc的取值，并画出roc曲线图"
   ]
  },
  {
   "cell_type": "code",
   "execution_count": 53,
   "metadata": {},
   "outputs": [],
   "source": [
    "from sklearn.metrics import accuracy_score, precision_score, recall_score, f1_score\n",
    "from sklearn.metrics import roc_auc_score,roc_curve, auc\n",
    "%matplotlib inline"
   ]
  },
  {
   "cell_type": "code",
   "execution_count": 54,
   "metadata": {},
   "outputs": [],
   "source": [
    "def model_metrics(clf, X_train, X_test, y_train, y_test):\n",
    "    # 预测\n",
    "    y_train_pred = clf.predict(X_train)\n",
    "    y_test_pred = clf.predict(X_test)\n",
    "    \n",
    "    y_train_proba = clf.predict_proba(X_train)[:,1]\n",
    "    y_test_proba = clf.predict_proba(X_test)[:,1]\n",
    "    \n",
    "    # 准确率\n",
    "    print('[准确率]', end = ' ')\n",
    "    print('训练集：', '%.4f'%accuracy_score(y_train, y_train_pred), end = ' ')\n",
    "    print('测试集：', '%.4f'%accuracy_score(y_test, y_test_pred))\n",
    "    \n",
    "    # 精准率\n",
    "    print('[精准率]', end = ' ')\n",
    "    print('训练集：', '%.4f'%precision_score(y_train, y_train_pred), end = ' ')\n",
    "    print('测试集：', '%.4f'%precision_score(y_test, y_test_pred))\n",
    "\n",
    "    # 召回率\n",
    "    print('[召回率]', end = ' ')\n",
    "    print('训练集：', '%.4f'%recall_score(y_train, y_train_pred), end = ' ')\n",
    "    print('测试集：', '%.4f'%recall_score(y_test, y_test_pred))\n",
    "    \n",
    "    # f1-score\n",
    "    print('[f1-score]', end = ' ')\n",
    "    print('训练集：', '%.4f'%f1_score(y_train, y_train_pred), end = ' ')\n",
    "    print('测试集：', '%.4f'%f1_score(y_test, y_test_pred))\n",
    "    \n",
    "    # auc取值：用roc_auc_score或auc\n",
    "    print('[auc值]', end = ' ')\n",
    "    print('训练集：', '%.4f'%roc_auc_score(y_train, y_train_proba), end = ' ')\n",
    "    print('测试集：', '%.4f'%roc_auc_score(y_test, y_test_proba))\n",
    "    \n",
    "    # roc曲线\n",
    "    fpr_train, tpr_train, thresholds_train = roc_curve(y_train, y_train_proba, pos_label = 1)\n",
    "    fpr_test, tpr_test, thresholds_test = roc_curve(y_test, y_test_proba, pos_label = 1)\n",
    "    \n",
    "    label = [\"Train - AUC:{:.4f}\".format(auc(fpr_train, tpr_train)), \n",
    "             \"Test - AUC:{:.4f}\".format(auc(fpr_test, tpr_test))]\n",
    "    plt.plot(fpr_train,tpr_train)\n",
    "    plt.plot(fpr_test,tpr_test)\n",
    "    plt.plot([0, 1], [0, 1], 'd--')\n",
    "    plt.xlabel('False Positive Rate')\n",
    "    plt.ylabel('True Positive Rate')\n",
    "    plt.legend(label, loc = 4)\n",
    "    plt.title(\"ROC curve\")"
   ]
  },
  {
   "cell_type": "code",
   "execution_count": 55,
   "metadata": {},
   "outputs": [
    {
     "name": "stdout",
     "output_type": "stream",
     "text": [
      "[准确率] 训练集： 0.8056 测试集： 0.7356\n",
      "[精准率] 训练集： 0.6621 测试集： 0.4183\n",
      "[召回率] 训练集： 0.5280 测试集： 0.3818\n",
      "[f1-score] 训练集： 0.5875 测试集： 0.3992\n",
      "[auc值] 训练集： 0.8025 测试集： 0.6986\n"
     ]
    },
    {
     "data": {
      "image/png": "[encoded data removed]",
      "text/plain": [
       "<Figure size 432x288 with 1 Axes>"
      ]
     },
     "metadata": {
      "needs_background": "light"
     },
     "output_type": "display_data"
    }
   ],
   "source": [
    "# 决策树，不需要标准化 or 归一化\n",
    "model_metrics(dt, X_train, X_test, y_train, y_test)"
   ]
  },
  {
   "cell_type": "markdown",
   "metadata": {},
   "source": [
    "进行特征选择之前的决策树模型，记录一下"
   ]
  },
  {
   "cell_type": "markdown",
   "metadata": {
    "toc-hr-collapsed": false
   },
   "source": [
    "## Task2 特征工程\n",
    "- 计算特征的IV值\n",
    "- 随机森林筛选特征"
   ]
  },
  {
   "cell_type": "markdown",
   "metadata": {},
   "source": [
    "### 计算IV值"
   ]
  },
  {
   "cell_type": "code",
   "execution_count": 56,
   "metadata": {},
   "outputs": [],
   "source": [
    "import math\n",
    "import numpy as np\n",
    "from scipy import stats\n",
    "from sklearn.utils.multiclass import type_of_target\n",
    "\n",
    "def woe(X, y, event=1):  \n",
    "    res_woe = []\n",
    "    iv_dict = {}\n",
    "    for feature in X.columns:\n",
    "        x = X[feature].values\n",
    "        # 1) 连续特征离散化\n",
    "        if type_of_target(x) == 'continuous':\n",
    "            x = discrete(x)\n",
    "        # 2) 计算该特征的woe和iv\n",
    "        # woe_dict, iv = woe_single_x(x, y, feature, event)\n",
    "        woe_dict, iv = woe_single_x(x, y, feature, event)\n",
    "        iv_dict[feature] = iv\n",
    "        res_woe.append(woe_dict) \n",
    "        \n",
    "    return iv_dict\n",
    "        \n",
    "def discrete(x):\n",
    "    # 使用5等分离散化特征\n",
    "    res = np.zeros(x.shape)\n",
    "    for i in range(5):\n",
    "        point1 = stats.scoreatpercentile(x, i * 20)\n",
    "        point2 = stats.scoreatpercentile(x, (i + 1) * 20)\n",
    "        x1 = x[np.where((x >= point1) & (x <= point2))]\n",
    "        mask = np.in1d(x, x1)\n",
    "        res[mask] = i + 1    # 将[i, i+1]块内的值标记成i+1\n",
    "    return res\n",
    "\n",
    "def woe_single_x(x, y, feature,event = 1):\n",
    "    # event代表预测正例的标签\n",
    "    event_total = sum(y == event)\n",
    "    non_event_total = y.shape[-1] - event_total\n",
    "    \n",
    "    iv = 0\n",
    "    woe_dict = {}\n",
    "    for x1 in set(x):    # 遍历各个块\n",
    "        y1 = y.reindex(np.where(x == x1)[0])\n",
    "        event_count = sum(y1 == event)\n",
    "        non_event_count = y1.shape[-1] - event_count\n",
    "        rate_event = event_count / event_total    \n",
    "        rate_non_event = non_event_count / non_event_total\n",
    "        \n",
    "        if rate_event == 0:\n",
    "            rate_event = 0.0001\n",
    "            # woei = -20\n",
    "        elif rate_non_event == 0:\n",
    "            rate_non_event = 0.0001\n",
    "            # woei = 20\n",
    "        woei = math.log(rate_event / rate_non_event)\n",
    "        woe_dict[x1] = woei\n",
    "        iv += (rate_event - rate_non_event) * woei\n",
    "    return woe_dict, iv\n"
   ]
  },
  {
   "cell_type": "markdown",
   "metadata": {},
   "source": [
    "为了避免极端情况，即响应数为0。对极端值进行平滑处理"
   ]
  },
  {
   "cell_type": "code",
   "execution_count": 57,
   "metadata": {},
   "outputs": [],
   "source": [
    "import warnings\n",
    "warnings.filterwarnings(\"ignore\")  #不打印报警信息\n",
    "\n",
    "iv_dict = woe(X_train, y_train)"
   ]
  },
  {
   "cell_type": "code",
   "execution_count": 58,
   "metadata": {},
   "outputs": [
    {
     "data": {
      "text/plain": [
       "[('historical_trans_amount', 2.8052032523465145),\n",
       " ('trans_amount_3_month', 2.678747615502215),\n",
       " ('pawns_auctions_trusts_consume_last_6_month', 2.631743389798647),\n",
       " ('repayment_capability', 2.592331503025519),\n",
       " ('first_transaction_time', 2.456140861322291),\n",
       " ('first_transaction_day', 2.4561408613222566),\n",
       " ('abs', 2.3936833285862416),\n",
       " ('consfin_avg_limit', 2.031419858853117),\n",
       " ('max_cumulative_consume_later_1_month', 1.872184992108639),\n",
       " ('loans_avg_limit', 1.7153384768783324),\n",
       " ('consume_mini_time_last_1_month', 1.6701805115232629),\n",
       " ('historical_trans_day', 1.4363460276516111),\n",
       " ('pawns_auctions_trusts_consume_last_1_month', 1.2632076738585964),\n",
       " ('consfin_credit_limit', 1.0812666230410581),\n",
       " ('loans_score', 1.0244473030795787),\n",
       " ('apply_score', 1.0103792064915054),\n",
       " ('avg_price_last_12_month', 0.9949957027792705),\n",
       " ('loans_latest_day', 0.8908344358264068),\n",
       " ('loans_latest_time', 0.8893029185216818),\n",
       " ('history_suc_fee', 0.8779005888254906),\n",
       " ('loans_count', 0.817176616489504),\n",
       " ('consfin_max_limit', 0.8153662181247199),\n",
       " ('history_fail_fee', 0.792374090974395),\n",
       " ('latest_query_day', 0.7447487598040705),\n",
       " ('loans_long_time', 0.7362191120362876),\n",
       " ('latest_query_time', 0.7338152714796979),\n",
       " ('loans_settle_count', 0.7329472365366035),\n",
       " ('take_amount_in_later_12_month_highest', 0.6872770764961481),\n",
       " ('trans_days_interval', 0.6694386402564567),\n",
       " ('query_sum_count', 0.6663280062574117),\n",
       " ('trans_days_interval_filter', 0.6591317883549892),\n",
       " ('loans_max_limit', 0.6224241682926462),\n",
       " ('latest_six_month_loan', 0.6154774303323364),\n",
       " ('consume_top_time_last_6_month', 0.6085524360439833),\n",
       " ('trans_top_time_last_6_month', 0.5950379596044871),\n",
       " ('trans_day_last_12_month', 0.592535392528256),\n",
       " ('number_of_trans_from_2011', 0.585048141234158),\n",
       " ('query_org_count', 0.5704622586972827),\n",
       " ('loans_org_count_behavior', 0.5700890975891276),\n",
       " ('latest_one_month_fail', 0.5686726989221484),\n",
       " ('latest_six_month_apply', 0.562754803670531),\n",
       " ('latest_three_month_apply', 0.5481973327427607),\n",
       " ('loans_credit_limit', 0.5210266325855205),\n",
       " ('consfin_credibility', 0.507923620995802),\n",
       " ('loans_credibility_limit', 0.5052108890828785),\n",
       " ('apply_credibility', 0.505162209289343),\n",
       " ('max_consume_count_later_6_month', 0.5038314125322784),\n",
       " ('loans_cash_count', 0.5032001560458016),\n",
       " ('loans_org_count_current', 0.5032001560458016),\n",
       " ('trans_top_time_last_1_month', 0.5028593067154066),\n",
       " ('consfin_product_count', 0.4971883222122144),\n",
       " ('latest_one_month_apply', 0.49616434699371),\n",
       " ('consume_top_time_last_1_month', 0.4943444931299143),\n",
       " ('transd_mcc', 0.4930538600820277),\n",
       " ('trans_fail_top_count_enum_last_12_month', 0.4909111609716131),\n",
       " ('loans_overdue_count', 0.4905522706419689),\n",
       " ('latest_one_month_suc', 0.4885551330291734),\n",
       " ('latest_one_month_loan', 0.48558824040431364),\n",
       " ('trans_fail_top_count_enum_last_6_month', 0.4848611828011538),\n",
       " ('loans_product_count', 0.4845656090862984),\n",
       " ('consfin_org_count_behavior', 0.48017631072861544),\n",
       " ('consfin_org_count_current', 0.48017631072861544),\n",
       " ('loans_credibility_behavior', 0.47809109433190194),\n",
       " ('query_finance_count', 0.4674584338704618),\n",
       " ('trans_fail_top_count_enum_last_1_month', 0.46695926716160446),\n",
       " ('latest_three_month_loan', 0.4612378088404389),\n",
       " ('avg_consume_less_12_valid_month', 0.45321915425691417),\n",
       " ('cross_consume_count_last_1_month', 0.45285304290324263),\n",
       " ('query_cash_count', 0.4523433623130917),\n",
       " ('low_volume_percent', 0.44152144913771435),\n",
       " ('trans_amount_increase_rate_lately', 0.44076830702337666),\n",
       " ('jewelry_consume_count_last_6_month', 0.4403010647754467),\n",
       " ('trans_activity_day', 0.4397895324612577),\n",
       " ('regional_mobility', 0.4381071481848373),\n",
       " ('middle_volume_percent', 0.4378044658205401),\n",
       " ('top_trans_count_last_1_month', 0.43644027606980085),\n",
       " ('reg_preference_for_trad', 0.436133545691512),\n",
       " ('rank_trad_1_month', 0.43467217214983694),\n",
       " ('railway_consume_count_last_12_month', 0.43312485185755056),\n",
       " ('trans_activity_month', 0.4323857530692425),\n",
       " ('avg_price_top_last_12_valid_month', 0.4313118203258681),\n",
       " ('is_high_user', 0.4305304326775824)]"
      ]
     },
     "execution_count": 58,
     "metadata": {},
     "output_type": "execute_result"
    }
   ],
   "source": [
    "iv = sorted(iv_dict.items(), key = lambda x:x[1],reverse = True)\n",
    "iv"
   ]
  },
  {
   "cell_type": "markdown",
   "metadata": {},
   "source": [
    "### 随机森林挑选特征"
   ]
  },
  {
   "cell_type": "code",
   "execution_count": 59,
   "metadata": {},
   "outputs": [],
   "source": [
    "from sklearn.model_selection import GridSearchCV\n",
    "from sklearn.ensemble import RandomForestClassifier"
   ]
  },
  {
   "cell_type": "code",
   "execution_count": 60,
   "metadata": {},
   "outputs": [
    {
     "name": "stdout",
     "output_type": "stream",
     "text": [
      "袋外分数： 0.7446197991391679\n",
      "[准确率] 训练集： 0.9806 测试集： 0.7874\n",
      "[精准率] 训练集： 0.9985 测试集： 0.5755\n",
      "[召回率] 训练集： 0.9275 测试集： 0.2909\n",
      "[f1-score] 训练集： 0.9617 测试集： 0.3865\n",
      "[auc值] 训练集： 0.9995 测试集： 0.7147\n"
     ]
    },
    {
     "data": {
      "image/png": "[encoded data removed]",
      "text/plain": [
       "<Figure size 432x288 with 1 Axes>"
      ]
     },
     "metadata": {
      "needs_background": "light"
     },
     "output_type": "display_data"
    }
   ],
   "source": [
    "# 观察默认参数的性能\n",
    "rf0 = RandomForestClassifier(oob_score=True, random_state=2018)\n",
    "rf0.fit(X_train, y_train)\n",
    "print('袋外分数：', rf0.oob_score_)\n",
    "model_metrics(rf0, X_train, X_test, y_train, y_test)"
   ]
  },
  {
   "cell_type": "code",
   "execution_count": 61,
   "metadata": {},
   "outputs": [
    {
     "data": {
      "text/plain": [
       "({'n_estimators': 120}, 0.8126527801759443)"
      ]
     },
     "execution_count": 61,
     "metadata": {},
     "output_type": "execute_result"
    }
   ],
   "source": [
    "# 网格法调参, 步骤省略...后续补充\n",
    "param_test = {'n_estimators':range(20,200,20)}\n",
    "# param_test = {'max_depth':range(3,14,2), 'min_samples_split':range(50,201,20)}\n",
    "# param_test = {'min_samples_split':range(10,100,20), 'min_samples_leaf':range(10,60,10)}\n",
    "# param_test = {'max_features':range(3,17,2)}\n",
    "gsearch = GridSearchCV(estimator = RandomForestClassifier(n_estimators=120, max_depth=9, min_samples_split=50, \n",
    "                                                          min_samples_leaf=20, max_features = 9,random_state=2333), \n",
    "                       param_grid = param_test, scoring='roc_auc', cv=5)\n",
    "\n",
    "gsearch.fit(X_train, y_train)\n",
    "# gsearch.grid_scores_, \n",
    "gsearch.best_params_, gsearch.best_score_"
   ]
  },
  {
   "cell_type": "code",
   "execution_count": 62,
   "metadata": {},
   "outputs": [
    {
     "name": "stdout",
     "output_type": "stream",
     "text": [
      "袋外分数： 0.7887374461979914\n",
      "[准确率] 训练集： 0.8228 测试集： 0.7975\n",
      "[精准率] 训练集： 0.8738 测试集： 0.6571\n",
      "[召回率] 训练集： 0.3789 测试集： 0.2509\n",
      "[f1-score] 训练集： 0.5286 测试集： 0.3632\n",
      "[auc值] 训练集： 0.9070 测试集： 0.7545\n"
     ]
    },
    {
     "data": {
      "image/png": "[encoded data removed]",
      "text/plain": [
       "<Figure size 432x288 with 1 Axes>"
      ]
     },
     "metadata": {
      "needs_background": "light"
     },
     "output_type": "display_data"
    }
   ],
   "source": [
    "rf = RandomForestClassifier(n_estimators=120, max_depth=9, min_samples_split=50,\n",
    "                            min_samples_leaf=20, max_features = 9,oob_score=True, random_state=2018)\n",
    "rf.fit(X_train, y_train)\n",
    "print('袋外分数：', rf.oob_score_)\n",
    "model_metrics(rf, X_train, X_test, y_train, y_test)"
   ]
  },
  {
   "cell_type": "markdown",
   "metadata": {},
   "source": [
    "### 平均不纯度减少 mean decrease impurity\n",
    "\n",
    "> 下面代码是基于Gini指数"
   ]
  },
  {
   "cell_type": "code",
   "execution_count": 63,
   "metadata": {},
   "outputs": [],
   "source": [
    "rf.fit(X_train, y_train)\n",
    "feature_impotance1 = sorted(zip(map(lambda x: '%.4f'%x, rf.feature_importances_), list(X_train.columns)), reverse=True)"
   ]
  },
  {
   "cell_type": "code",
   "execution_count": 64,
   "metadata": {},
   "outputs": [
    {
     "data": {
      "text/plain": [
       "[('0.1209', 'history_fail_fee'),\n",
       " ('0.1160', 'trans_fail_top_count_enum_last_1_month'),\n",
       " ('0.0995', 'loans_score'),\n",
       " ('0.0569', 'latest_one_month_fail'),\n",
       " ('0.0527', 'apply_score'),\n",
       " ('0.0502', 'loans_overdue_count'),\n",
       " ('0.0278', 'trans_fail_top_count_enum_last_6_month'),\n",
       " ('0.0222', 'latest_one_month_suc'),\n",
       " ('0.0176', 'trans_fail_top_count_enum_last_12_month'),\n",
       " ('0.0165', 'trans_day_last_12_month')]"
      ]
     },
     "execution_count": 64,
     "metadata": {},
     "output_type": "execute_result"
    }
   ],
   "source": [
    "feature_impotance1[:10]"
   ]
  },
  {
   "cell_type": "markdown",
   "metadata": {},
   "source": [
    "### 平均精确率减少 Mean decrease accuracy"
   ]
  },
  {
   "cell_type": "code",
   "execution_count": 65,
   "metadata": {},
   "outputs": [],
   "source": [
    "import numpy as np\n",
    "from collections import defaultdict\n",
    "from sklearn.model_selection import cross_val_score, ShuffleSplit\n",
    "\n",
    "scores = defaultdict(list)\n",
    "rs = ShuffleSplit(n_splits=5, test_size=0.3, random_state=0)\n",
    "for train_idx, test_idx in rs.split(X_train):\n",
    "    x_train, x_test = X_train.values[train_idx], X_train.values[test_idx]\n",
    "    Y_train, Y_test = y_train.values[train_idx], y_train.values[test_idx]\n",
    "    r = rf.fit(x_train, Y_train)\n",
    "    acc = accuracy_score(Y_test, rf.predict(x_test))\n",
    "    for i in range(x_train.shape[1]):\n",
    "        X_t = x_test.copy()\n",
    "        np.random.shuffle(X_t[:, i])\n",
    "        shuff_acc = accuracy_score(Y_test, rf.predict(X_t))\n",
    "        scores[X_train.columns[i]].append((acc - shuff_acc) / acc)\n",
    "        \n",
    "feature_impotance2=sorted([('%.4f'%np.mean(score), feat) for feat, score in scores.items()], reverse=True)"
   ]
  },
  {
   "cell_type": "code",
   "execution_count": 66,
   "metadata": {},
   "outputs": [
    {
     "data": {
      "text/plain": [
       "[('0.0290', 'history_fail_fee'),\n",
       " ('0.0127', 'trans_fail_top_count_enum_last_1_month'),\n",
       " ('0.0103', 'loans_score'),\n",
       " ('0.0103', 'apply_score'),\n",
       " ('0.0045', 'loans_overdue_count'),\n",
       " ('0.0045', 'latest_one_month_suc'),\n",
       " ('0.0033', 'rank_trad_1_month'),\n",
       " ('0.0021', 'latest_query_day'),\n",
       " ('0.0018', 'latest_one_month_fail'),\n",
       " ('0.0018', 'consume_top_time_last_1_month')]"
      ]
     },
     "execution_count": 66,
     "metadata": {},
     "output_type": "execute_result"
    }
   ],
   "source": [
    "feature_impotance2[:10]"
   ]
  },
  {
   "cell_type": "markdown",
   "metadata": {
    "toc-hr-collapsed": false
   },
   "source": [
    "### 综合挑选特征"
   ]
  },
  {
   "cell_type": "code",
   "execution_count": 67,
   "metadata": {},
   "outputs": [
    {
     "data": {
      "text/plain": [
       "(('0.0061', 'loans_long_time'), ('0.0006', 'consfin_avg_limit'))"
      ]
     },
     "execution_count": 67,
     "metadata": {},
     "output_type": "execute_result"
    }
   ],
   "source": [
    "feature_impotance1[40], feature_impotance2[20]"
   ]
  },
  {
   "cell_type": "code",
   "execution_count": 68,
   "metadata": {},
   "outputs": [
    {
     "name": "stdout",
     "output_type": "stream",
     "text": [
      "low_volume_percent 0.44152144913771435\n",
      "middle_volume_percent 0.4378044658205401\n",
      "take_amount_in_later_12_month_highest 0.6872770764961481\n",
      "trans_activity_month 0.4323857530692425\n",
      "transd_mcc 0.4930538600820277\n",
      "regional_mobility 0.4381071481848373\n",
      "is_high_user 0.4305304326775824\n",
      "number_of_trans_from_2011 0.585048141234158\n",
      "avg_consume_less_12_valid_month 0.45321915425691417\n",
      "avg_price_top_last_12_valid_month 0.4313118203258681\n",
      "reg_preference_for_trad 0.436133545691512\n",
      "consume_top_time_last_6_month 0.6085524360439833\n",
      "cross_consume_count_last_1_month 0.45285304290324263\n",
      "max_consume_count_later_6_month 0.5038314125322784\n",
      "railway_consume_count_last_12_month 0.43312485185755056\n",
      "jewelry_consume_count_last_6_month 0.4403010647754467\n",
      "apply_credibility 0.505162209289343\n",
      "query_org_count 0.5704622586972827\n",
      "query_finance_count 0.4674584338704618\n",
      "query_cash_count 0.4523433623130917\n",
      "query_sum_count 0.6663280062574117\n",
      "latest_three_month_apply 0.5481973327427607\n",
      "loans_credibility_behavior 0.47809109433190194\n",
      "consfin_org_count_behavior 0.48017631072861544\n",
      "loans_cash_count 0.5032001560458016\n",
      "latest_one_month_loan 0.48558824040431364\n",
      "loans_credibility_limit 0.5052108890828785\n",
      "loans_org_count_current 0.5032001560458016\n",
      "consfin_credibility 0.507923620995802\n",
      "consfin_org_count_current 0.48017631072861544\n",
      "consfin_product_count 0.4971883222122144\n"
     ]
    }
   ],
   "source": [
    "useless = []\n",
    "for feature in X_train.columns:\n",
    "    if feature in [t[1] for t in feature_impotance1[50:]] and feature in [t[1] for t in feature_impotance2[20:]]:\n",
    "        useless.append(feature)\n",
    "        print(feature, iv_dict[feature])"
   ]
  },
  {
   "cell_type": "code",
   "execution_count": 69,
   "metadata": {},
   "outputs": [
    {
     "data": {
      "text/plain": [
       "31"
      ]
     },
     "execution_count": 69,
     "metadata": {},
     "output_type": "execute_result"
    }
   ],
   "source": [
    "len(useless)"
   ]
  },
  {
   "cell_type": "code",
   "execution_count": 70,
   "metadata": {},
   "outputs": [],
   "source": [
    "X_train.drop(useless, axis = 1, inplace = True)\n",
    "X_test.drop(useless, axis = 1, inplace = True)"
   ]
  },
  {
   "cell_type": "code",
   "execution_count": 71,
   "metadata": {},
   "outputs": [
    {
     "name": "stdout",
     "output_type": "stream",
     "text": [
      "袋外分数： 0.7883787661406025\n",
      "[准确率] 训练集： 0.8307 测试集： 0.7908\n",
      "[精准率] 训练集： 0.8627 测试集： 0.5954\n",
      "[召回率] 训练集： 0.4213 测试集： 0.2836\n",
      "[f1-score] 训练集： 0.5662 测试集： 0.3842\n",
      "[auc值] 训练集： 0.9046 测试集： 0.7594\n"
     ]
    },
    {
     "data": {
      "image/png": "[encoded data removed]",
      "text/plain": [
       "<Figure size 432x288 with 1 Axes>"
      ]
     },
     "metadata": {
      "needs_background": "light"
     },
     "output_type": "display_data"
    }
   ],
   "source": [
    "rf = RandomForestClassifier(n_estimators=120, max_depth=9, min_samples_split=50,\n",
    "                            min_samples_leaf=20, max_features = 9,oob_score=True, random_state=2018)\n",
    "rf.fit(X_train, y_train)\n",
    "print('袋外分数：', rf.oob_score_)\n",
    "model_metrics(rf, X_train, X_test, y_train, y_test)"
   ]
  },
  {
   "cell_type": "code",
   "execution_count": 72,
   "metadata": {},
   "outputs": [
    {
     "data": {
      "text/plain": [
       "consfin_avg_limit                             1\n",
       "latest_one_month_apply                        1\n",
       "trans_fail_top_count_enum_last_12_month       1\n",
       "trans_top_time_last_6_month                   1\n",
       "trans_top_time_last_1_month                   1\n",
       "history_fail_fee                              1\n",
       "history_suc_fee                               1\n",
       "trans_days_interval                           1\n",
       "trans_amount_3_month                          1\n",
       "pawns_auctions_trusts_consume_last_1_month    1\n",
       "loans_latest_day                              1\n",
       "loans_max_limit                               1\n",
       "repayment_capability                          1\n",
       "loans_settle_count                            1\n",
       "loans_org_count_behavior                      1\n",
       "trans_fail_top_count_enum_last_6_month        1\n",
       "loans_long_time                               1\n",
       "apply_score                                   1\n",
       "trans_day_last_12_month                       1\n",
       "consfin_credit_limit                          1\n",
       "first_transaction_day                         1\n",
       "latest_three_month_loan                       1\n",
       "latest_one_month_suc                          1\n",
       "historical_trans_amount                       1\n",
       "max_cumulative_consume_later_1_month          1\n",
       "trans_fail_top_count_enum_last_1_month        1\n",
       "loans_avg_limit                               1\n",
       "latest_six_month_apply                        1\n",
       "top_trans_count_last_1_month                  1\n",
       "pawns_auctions_trusts_consume_last_6_month    1\n",
       "trans_amount_increase_rate_lately             1\n",
       "loans_product_count                           1\n",
       "loans_credit_limit                            1\n",
       "latest_query_day                              1\n",
       "avg_price_last_12_month                       1\n",
       "consume_mini_time_last_1_month                1\n",
       "latest_six_month_loan                         1\n",
       "trans_activity_day                            1\n",
       "loans_overdue_count                           1\n",
       "historical_trans_day                          1\n",
       "trans_days_interval_filter                    1\n",
       "consfin_max_limit                             1\n",
       "loans_latest_time                             1\n",
       "first_transaction_time                        1\n",
       "latest_one_month_fail                         1\n",
       "latest_query_time                             1\n",
       "loans_count                                   1\n",
       "loans_score                                   1\n",
       "abs                                           1\n",
       "consume_top_time_last_1_month                 1\n",
       "rank_trad_1_month                             1\n",
       "dtype: int64"
      ]
     },
     "execution_count": 72,
     "metadata": {},
     "output_type": "execute_result"
    }
   ],
   "source": [
    "X_train.columns.value_counts()"
   ]
  },
  {
   "cell_type": "code",
   "execution_count": 73,
   "metadata": {},
   "outputs": [
    {
     "data": {
      "text/plain": [
       "51"
      ]
     },
     "execution_count": 73,
     "metadata": {},
     "output_type": "execute_result"
    }
   ],
   "source": [
    "len(X_train.columns)"
   ]
  },
  {
   "cell_type": "markdown",
   "metadata": {},
   "source": [
    "至此，筛选出了52个特征。"
   ]
  },
  {
   "cell_type": "code",
   "execution_count": 74,
   "metadata": {},
   "outputs": [
    {
     "data": {
      "text/plain": [
       "51"
      ]
     },
     "execution_count": 74,
     "metadata": {},
     "output_type": "execute_result"
    }
   ],
   "source": [
    "len(X_test.columns)"
   ]
  },
  {
   "cell_type": "code",
   "execution_count": 75,
   "metadata": {},
   "outputs": [
    {
     "data": {
      "text/html": [
       "<div>\n",
       "<style scoped>\n",
       "    .dataframe tbody tr th:only-of-type {\n",
       "        vertical-align: middle;\n",
       "    }\n",
       "\n",
       "    .dataframe tbody tr th {\n",
       "        vertical-align: top;\n",
       "    }\n",
       "\n",
       "    .dataframe thead th {\n",
       "        text-align: right;\n",
       "    }\n",
       "</style>\n",
       "<table border=\"1\" class=\"dataframe\">\n",
       "  <thead>\n",
       "    <tr style=\"text-align: right;\">\n",
       "      <th></th>\n",
       "      <th>trans_amount_increase_rate_lately</th>\n",
       "      <th>trans_activity_day</th>\n",
       "      <th>trans_days_interval_filter</th>\n",
       "      <th>trans_days_interval</th>\n",
       "      <th>repayment_capability</th>\n",
       "      <th>first_transaction_time</th>\n",
       "      <th>historical_trans_amount</th>\n",
       "      <th>historical_trans_day</th>\n",
       "      <th>rank_trad_1_month</th>\n",
       "      <th>trans_amount_3_month</th>\n",
       "      <th>...</th>\n",
       "      <th>loans_latest_time</th>\n",
       "      <th>loans_credit_limit</th>\n",
       "      <th>loans_product_count</th>\n",
       "      <th>loans_max_limit</th>\n",
       "      <th>loans_avg_limit</th>\n",
       "      <th>consfin_credit_limit</th>\n",
       "      <th>consfin_max_limit</th>\n",
       "      <th>consfin_avg_limit</th>\n",
       "      <th>latest_query_day</th>\n",
       "      <th>loans_latest_day</th>\n",
       "    </tr>\n",
       "  </thead>\n",
       "  <tbody>\n",
       "    <tr>\n",
       "      <th>2007</th>\n",
       "      <td>3.43</td>\n",
       "      <td>0.558</td>\n",
       "      <td>14.0</td>\n",
       "      <td>9.0</td>\n",
       "      <td>7060</td>\n",
       "      <td>20170315.0</td>\n",
       "      <td>582660</td>\n",
       "      <td>201.0</td>\n",
       "      <td>0.1</td>\n",
       "      <td>138740</td>\n",
       "      <td>...</td>\n",
       "      <td>20180412.0</td>\n",
       "      <td>2000.0</td>\n",
       "      <td>6.0</td>\n",
       "      <td>2800.0</td>\n",
       "      <td>1833.0</td>\n",
       "      <td>17700.0</td>\n",
       "      <td>30000.0</td>\n",
       "      <td>11900.0</td>\n",
       "      <td>23.0</td>\n",
       "      <td>25.0</td>\n",
       "    </tr>\n",
       "    <tr>\n",
       "      <th>3782</th>\n",
       "      <td>0.96</td>\n",
       "      <td>0.345</td>\n",
       "      <td>28.0</td>\n",
       "      <td>17.0</td>\n",
       "      <td>12310</td>\n",
       "      <td>20151227.0</td>\n",
       "      <td>163550</td>\n",
       "      <td>154.0</td>\n",
       "      <td>1.0</td>\n",
       "      <td>12090</td>\n",
       "      <td>...</td>\n",
       "      <td>20180418.0</td>\n",
       "      <td>1500.0</td>\n",
       "      <td>7.0</td>\n",
       "      <td>1800.0</td>\n",
       "      <td>1400.0</td>\n",
       "      <td>21200.0</td>\n",
       "      <td>49200.0</td>\n",
       "      <td>11412.0</td>\n",
       "      <td>12.0</td>\n",
       "      <td>19.0</td>\n",
       "    </tr>\n",
       "    <tr>\n",
       "      <th>1246</th>\n",
       "      <td>0.68</td>\n",
       "      <td>0.202</td>\n",
       "      <td>30.0</td>\n",
       "      <td>27.0</td>\n",
       "      <td>12240</td>\n",
       "      <td>20160229.0</td>\n",
       "      <td>118300</td>\n",
       "      <td>75.0</td>\n",
       "      <td>0.4</td>\n",
       "      <td>25740</td>\n",
       "      <td>...</td>\n",
       "      <td>20171228.0</td>\n",
       "      <td>2900.0</td>\n",
       "      <td>6.0</td>\n",
       "      <td>5000.0</td>\n",
       "      <td>2066.0</td>\n",
       "      <td>20900.0</td>\n",
       "      <td>30600.0</td>\n",
       "      <td>14220.0</td>\n",
       "      <td>31.0</td>\n",
       "      <td>130.0</td>\n",
       "    </tr>\n",
       "  </tbody>\n",
       "</table>\n",
       "<p>3 rows × 51 columns</p>\n",
       "</div>"
      ],
      "text/plain": [
       "      trans_amount_increase_rate_lately  trans_activity_day  \\\n",
       "2007                               3.43               0.558   \n",
       "3782                               0.96               0.345   \n",
       "1246                               0.68               0.202   \n",
       "\n",
       "      trans_days_interval_filter  trans_days_interval  repayment_capability  \\\n",
       "2007                        14.0                  9.0                  7060   \n",
       "3782                        28.0                 17.0                 12310   \n",
       "1246                        30.0                 27.0                 12240   \n",
       "\n",
       "      first_transaction_time  historical_trans_amount  historical_trans_day  \\\n",
       "2007              20170315.0                   582660                 201.0   \n",
       "3782              20151227.0                   163550                 154.0   \n",
       "1246              20160229.0                   118300                  75.0   \n",
       "\n",
       "      rank_trad_1_month  trans_amount_3_month  ...  loans_latest_time  \\\n",
       "2007                0.1                138740  ...         20180412.0   \n",
       "3782                1.0                 12090  ...         20180418.0   \n",
       "1246                0.4                 25740  ...         20171228.0   \n",
       "\n",
       "      loans_credit_limit  loans_product_count  loans_max_limit  \\\n",
       "2007              2000.0                  6.0           2800.0   \n",
       "3782              1500.0                  7.0           1800.0   \n",
       "1246              2900.0                  6.0           5000.0   \n",
       "\n",
       "      loans_avg_limit  consfin_credit_limit  consfin_max_limit  \\\n",
       "2007           1833.0               17700.0            30000.0   \n",
       "3782           1400.0               21200.0            49200.0   \n",
       "1246           2066.0               20900.0            30600.0   \n",
       "\n",
       "      consfin_avg_limit  latest_query_day  loans_latest_day  \n",
       "2007            11900.0              23.0              25.0  \n",
       "3782            11412.0              12.0              19.0  \n",
       "1246            14220.0              31.0             130.0  \n",
       "\n",
       "[3 rows x 51 columns]"
      ]
     },
     "execution_count": 75,
     "metadata": {},
     "output_type": "execute_result"
    }
   ],
   "source": [
    "X_train.head(3)"
   ]
  },
  {
   "cell_type": "markdown",
   "metadata": {},
   "source": [
    "## Task3正式开始建模\n",
    "- lr/SVC/DT\n",
    "- RF/xgb\n",
    "- 评估"
   ]
  },
  {
   "cell_type": "markdown",
   "metadata": {},
   "source": [
    "### LR"
   ]
  },
  {
   "cell_type": "code",
   "execution_count": 76,
   "metadata": {},
   "outputs": [
    {
     "data": {
      "text/plain": [
       "LogisticRegression(C=1.0, class_weight=None, dual=False, fit_intercept=True,\n",
       "          intercept_scaling=1, max_iter=100, multi_class='warn',\n",
       "          n_jobs=None, penalty='l2', random_state=None, solver='warn',\n",
       "          tol=0.0001, verbose=0, warm_start=False)"
      ]
     },
     "execution_count": 76,
     "metadata": {},
     "output_type": "execute_result"
    }
   ],
   "source": [
    "from sklearn.linear_model import LogisticRegression\n",
    "lr = LogisticRegression()\n",
    "lr.fit(X_train, y_train)"
   ]
  },
  {
   "cell_type": "code",
   "execution_count": 77,
   "metadata": {},
   "outputs": [
    {
     "name": "stdout",
     "output_type": "stream",
     "text": [
      "[准确率] 训练集： 0.8307 测试集： 0.7908\n",
      "[精准率] 训练集： 0.8627 测试集： 0.5954\n",
      "[召回率] 训练集： 0.4213 测试集： 0.2836\n",
      "[f1-score] 训练集： 0.5662 测试集： 0.3842\n",
      "[auc值] 训练集： 0.9046 测试集： 0.7594\n"
     ]
    },
    {
     "data": {
      "image/png": "[encoded data removed]",
      "text/plain": [
       "<Figure size 432x288 with 1 Axes>"
      ]
     },
     "metadata": {
      "needs_background": "light"
     },
     "output_type": "display_data"
    }
   ],
   "source": [
    "model_metrics(rf, X_train, X_test, y_train, y_test)"
   ]
  },
  {
   "cell_type": "markdown",
   "metadata": {},
   "source": [
    "### DT"
   ]
  },
  {
   "cell_type": "code",
   "execution_count": 78,
   "metadata": {},
   "outputs": [
    {
     "data": {
      "text/plain": [
       "DecisionTreeClassifier(class_weight=None, criterion='gini', max_depth=4,\n",
       "            max_features=None, max_leaf_nodes=None,\n",
       "            min_impurity_decrease=0.0, min_impurity_split=None,\n",
       "            min_samples_leaf=1, min_samples_split=2,\n",
       "            min_weight_fraction_leaf=0.0, presort=False, random_state=None,\n",
       "            splitter='best')"
      ]
     },
     "execution_count": 78,
     "metadata": {},
     "output_type": "execute_result"
    }
   ],
   "source": [
    "from sklearn.tree import DecisionTreeClassifier\n",
    "dt = DecisionTreeClassifier(max_depth = 4)\n",
    "dt.fit(X_train, y_train)"
   ]
  },
  {
   "cell_type": "code",
   "execution_count": 79,
   "metadata": {},
   "outputs": [
    {
     "name": "stdout",
     "output_type": "stream",
     "text": [
      "[准确率] 训练集： 0.8049 测试集： 0.7364\n",
      "[精准率] 训练集： 0.6609 测试集： 0.4200\n",
      "[召回率] 训练集： 0.5253 测试集： 0.3818\n",
      "[f1-score] 训练集： 0.5854 测试集： 0.4000\n",
      "[auc值] 训练集： 0.8011 测试集： 0.7045\n"
     ]
    },
    {
     "data": {
      "image/png": "[encoded data removed]",
      "text/plain": [
       "<Figure size 432x288 with 1 Axes>"
      ]
     },
     "metadata": {
      "needs_background": "light"
     },
     "output_type": "display_data"
    }
   ],
   "source": [
    "model_metrics(dt,X_train,X_test, y_train, y_test)"
   ]
  },
  {
   "cell_type": "markdown",
   "metadata": {},
   "source": [
    "### RF"
   ]
  },
  {
   "cell_type": "code",
   "execution_count": 80,
   "metadata": {},
   "outputs": [
    {
     "data": {
      "text/plain": [
       "RandomForestClassifier(bootstrap=True, class_weight=None, criterion='gini',\n",
       "            max_depth=9, max_features=9, max_leaf_nodes=None,\n",
       "            min_impurity_decrease=0.0, min_impurity_split=None,\n",
       "            min_samples_leaf=20, min_samples_split=50,\n",
       "            min_weight_fraction_leaf=0.0, n_estimators=120, n_jobs=None,\n",
       "            oob_score=True, random_state=2018, verbose=0, warm_start=False)"
      ]
     },
     "execution_count": 80,
     "metadata": {},
     "output_type": "execute_result"
    }
   ],
   "source": [
    "from sklearn.ensemble import RandomForestClassifier\n",
    "rf = RandomForestClassifier(n_estimators=120, max_depth=9, min_samples_split=50,\n",
    "                            min_samples_leaf=20, max_features = 9,oob_score=True, random_state=2018)\n",
    "rf.fit(X_train, y_train)"
   ]
  },
  {
   "cell_type": "code",
   "execution_count": 81,
   "metadata": {},
   "outputs": [
    {
     "name": "stdout",
     "output_type": "stream",
     "text": [
      "[准确率] 训练集： 0.8307 测试集： 0.7908\n",
      "[精准率] 训练集： 0.8627 测试集： 0.5954\n",
      "[召回率] 训练集： 0.4213 测试集： 0.2836\n",
      "[f1-score] 训练集： 0.5662 测试集： 0.3842\n",
      "[auc值] 训练集： 0.9046 测试集： 0.7594\n"
     ]
    },
    {
     "data": {
      "image/png": "[encoded data removed]",
      "text/plain": [
       "<Figure size 432x288 with 1 Axes>"
      ]
     },
     "metadata": {
      "needs_background": "light"
     },
     "output_type": "display_data"
    }
   ],
   "source": [
    "model_metrics(rf, X_train, X_test, y_train, y_test)"
   ]
  },
  {
   "cell_type": "markdown",
   "metadata": {},
   "source": [
    "### xgb"
   ]
  },
  {
   "cell_type": "code",
   "execution_count": 82,
   "metadata": {},
   "outputs": [
    {
     "data": {
      "text/plain": [
       "XGBClassifier(base_score=0.5, booster='gbtree', colsample_bylevel=1,\n",
       "       colsample_bynode=1, colsample_bytree=1, gamma=0, learning_rate=0.1,\n",
       "       max_delta_step=0, max_depth=3, min_child_weight=1, missing=None,\n",
       "       n_estimators=100, n_jobs=1, nthread=None,\n",
       "       objective='binary:logistic', random_state=0, reg_alpha=0,\n",
       "       reg_lambda=1, scale_pos_weight=1, seed=None, silent=None,\n",
       "       subsample=1, verbosity=1)"
      ]
     },
     "execution_count": 82,
     "metadata": {},
     "output_type": "execute_result"
    }
   ],
   "source": [
    "from xgboost.sklearn import XGBClassifier\n",
    "xgb = XGBClassifier()\n",
    "xgb.fit(X_train, y_train)"
   ]
  },
  {
   "cell_type": "code",
   "execution_count": 83,
   "metadata": {},
   "outputs": [
    {
     "name": "stdout",
     "output_type": "stream",
     "text": [
      "[准确率] 训练集： 0.8651 测试集： 0.7925\n",
      "[精准率] 训练集： 0.8675 测试集： 0.5771\n",
      "[召回率] 训练集： 0.5732 测试集： 0.3673\n",
      "[f1-score] 训练集： 0.6903 测试集： 0.4489\n",
      "[auc值] 训练集： 0.9205 测试集： 0.7727\n"
     ]
    },
    {
     "data": {
      "image/png": "[encoded data removed]",
      "text/plain": [
       "<Figure size 432x288 with 1 Axes>"
      ]
     },
     "metadata": {
      "needs_background": "light"
     },
     "output_type": "display_data"
    }
   ],
   "source": [
    "model_metrics(xgb,X_train, X_test, y_train, y_test)"
   ]
  },
  {
   "cell_type": "markdown",
   "metadata": {},
   "source": [
    "### SVC"
   ]
  },
  {
   "cell_type": "code",
   "execution_count": 85,
   "metadata": {},
   "outputs": [],
   "source": [
    "from sklearn import svm"
   ]
  },
  {
   "cell_type": "code",
   "execution_count": null,
   "metadata": {},
   "outputs": [],
   "source": [
    "#svm_linear = svm.SVC(kernel = 'linear', probability=True).fit(X_train, y_train)   #运行时间太长,问题就出现在这里"
   ]
  },
  {
   "cell_type": "code",
   "execution_count": 93,
   "metadata": {},
   "outputs": [],
   "source": [
    "svm_poly = svm.SVC(kernel = 'poly', probability=True).fit(X_train, y_train)\n",
    "svm_rbf = svm.SVC(probability=True).fit(X_train, y_train)\n",
    "svm_sigmoid = svm.SVC(kernel = 'sigmoid',probability=True).fit(X_train, y_train)"
   ]
  },
  {
   "cell_type": "code",
   "execution_count": 87,
   "metadata": {},
   "outputs": [],
   "source": [
    "svm_rbf = svm.SVC(probability=True).fit(X_train, y_train)"
   ]
  },
  {
   "cell_type": "code",
   "execution_count": 88,
   "metadata": {},
   "outputs": [],
   "source": [
    "svm_sigmoid = svm.SVC(kernel = 'sigmoid',probability=True).fit(X_train, y_train)"
   ]
  },
  {
   "cell_type": "code",
   "execution_count": 94,
   "metadata": {},
   "outputs": [
    {
     "name": "stdout",
     "output_type": "stream",
     "text": [
      "[准确率] 训练集： 0.2622 测试集： 0.2301\n",
      "[精准率] 训练集： 0.2622 测试集： 0.2301\n",
      "[召回率] 训练集： 1.0000 测试集： 1.0000\n",
      "[f1-score] 训练集： 0.4155 测试集： 0.3741\n",
      "[auc值] 训练集： 0.5000 测试集： 0.5000\n"
     ]
    },
    {
     "data": {
      "image/png": "[encoded data removed]",
      "text/plain": [
       "<Figure size 432x288 with 1 Axes>"
      ]
     },
     "metadata": {
      "needs_background": "light"
     },
     "output_type": "display_data"
    }
   ],
   "source": [
    "model_metrics(svm_poly,X_train, X_test, y_train, y_test)"
   ]
  },
  {
   "cell_type": "code",
   "execution_count": 95,
   "metadata": {},
   "outputs": [
    {
     "name": "stdout",
     "output_type": "stream",
     "text": [
      "[准确率] 训练集： 1.0000 测试集： 0.7699\n",
      "[精准率] 训练集： 1.0000 测试集： 0.0000\n",
      "[召回率] 训练集： 1.0000 测试集： 0.0000\n",
      "[f1-score] 训练集： 1.0000 测试集： 0.0000\n",
      "[auc值] 训练集： 0.0000 测试集： 0.5000\n"
     ]
    },
    {
     "data": {
      "image/png": "[encoded data removed]",
      "text/plain": [
       "<Figure size 432x288 with 1 Axes>"
      ]
     },
     "metadata": {
      "needs_background": "light"
     },
     "output_type": "display_data"
    }
   ],
   "source": [
    "model_metrics(svm_rbf,X_train, X_test, y_train, y_test)"
   ]
  },
  {
   "cell_type": "code",
   "execution_count": 96,
   "metadata": {},
   "outputs": [
    {
     "name": "stdout",
     "output_type": "stream",
     "text": [
      "[准确率] 训练集： 0.7378 测试集： 0.7699\n",
      "[精准率] 训练集： 0.0000 测试集： 0.0000\n",
      "[召回率] 训练集： 0.0000 测试集： 0.0000\n",
      "[f1-score] 训练集： 0.0000 测试集： 0.0000\n",
      "[auc值] 训练集： 0.5000 测试集： 0.5000\n"
     ]
    },
    {
     "data": {
      "image/png": "[encoded data removed]",
      "text/plain": [
       "<Figure size 432x288 with 1 Axes>"
      ]
     },
     "metadata": {
      "needs_background": "light"
     },
     "output_type": "display_data"
    }
   ],
   "source": [
    "model_metrics(svm_sigmoid,X_train, X_test, y_train, y_test)"
   ]
  }
 ],
 "metadata": {
  "kernelspec": {
   "display_name": "Python 3",
   "language": "python",
   "name": "python3"
  },
  "language_info": {
   "codemirror_mode": {
    "name": "ipython",
    "version": 3
   },
   "file_extension": ".py",
   "mimetype": "text/x-python",
   "name": "python",
   "nbconvert_exporter": "python",
   "pygments_lexer": "ipython3",
   "version": "3.7.3"
  }
 },
 "nbformat": 4,
 "nbformat_minor": 2
}
