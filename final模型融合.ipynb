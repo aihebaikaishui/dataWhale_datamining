{
 "cells": [
  {
   "cell_type": "markdown",
   "metadata": {},
   "source": [
    "# stacking模型融合"
   ]
  },
  {
   "cell_type": "code",
   "execution_count": 1,
   "metadata": {},
   "outputs": [],
   "source": [
    "import numpy as np\n",
    "import pandas as pd\n",
    "import matplotlib.pyplot as plt"
   ]
  },
  {
   "cell_type": "code",
   "execution_count": 2,
   "metadata": {},
   "outputs": [],
   "source": [
    "import pickle\n",
    "with open('29_features.pkl','rb') as f:\n",
    "    X = pickle.load(f, encoding = 'gbk')  #标准化后的数据\n",
    "with open('new_label.pkl','rb') as f:\n",
    "    y = pickle.load(f)\n",
    "\n",
    "from sklearn.model_selection import train_test_split\n",
    "\n",
    "X_train, X_test, y_train, y_test = train_test_split(X,y,test_size=0.3, random_state = 2018)\n",
    "\n",
    "import warnings\n",
    "warnings.filterwarnings('ignore')"
   ]
  },
  {
   "cell_type": "markdown",
   "metadata": {},
   "source": [
    "## 简化版模型评估"
   ]
  },
  {
   "cell_type": "code",
   "execution_count": 3,
   "metadata": {},
   "outputs": [],
   "source": [
    "from sklearn.metrics import accuracy_score, roc_auc_score\n",
    "\n",
    "def model_metrics(clf, X_train, X_test, y_train, y_test):\n",
    "    y_train_pred = clf.predict(X_train)\n",
    "    y_test_pred = clf.predict(X_test)\n",
    "    \n",
    "    y_train_proba = clf.predict_proba(X_train)[:,1]\n",
    "    y_test_proba = clf.predict_proba(X_test)[:,1]\n",
    "    \n",
    "    # 准确率\n",
    "    print('[准确率]', end = ' ')\n",
    "    print('训练集：', '%.4f'%accuracy_score(y_train, y_train_pred), end = ' ')\n",
    "    print('测试集：', '%.4f'%accuracy_score(y_test, y_test_pred))\n",
    "    \n",
    "    # auc取值：用roc_auc_score或auc\n",
    "    print('[auc值]', end = ' ')\n",
    "    print('训练集：', '%.4f'%roc_auc_score(y_train, y_train_proba), end = ' ')\n",
    "    print('测试集：', '%.4f'%roc_auc_score(y_test, y_test_proba))"
   ]
  },
  {
   "cell_type": "markdown",
   "metadata": {},
   "source": [
    "## 模型融合-stacking\n",
    "选择简单的lr为次级学习器， 其他的svm, dt, rf,xgb 作为初级学习器\n",
    "- 训练基学习器\n",
    "- 选择lr为次级学习器进行基学习器权重学习"
   ]
  },
  {
   "cell_type": "code",
   "execution_count": 4,
   "metadata": {},
   "outputs": [],
   "source": [
    "from sklearn.linear_model import LogisticRegression\n",
    "from sklearn import svm\n",
    "from sklearn.tree import DecisionTreeClassifier\n",
    "from xgboost.sklearn import XGBClassifier\n",
    "from sklearn.ensemble import RandomForestClassifier\n",
    "from mlxtend.classifier import StackingClassifier"
   ]
  },
  {
   "cell_type": "markdown",
   "metadata": {},
   "source": [
    "#### 训练基学习器"
   ]
  },
  {
   "cell_type": "code",
   "execution_count": 5,
   "metadata": {},
   "outputs": [
    {
     "name": "stdout",
     "output_type": "stream",
     "text": [
      "[准确率] 训练集： 0.8028 测试集： 0.7835\n",
      "[auc值] 训练集： 0.8038 测试集： 0.7840\n"
     ]
    }
   ],
   "source": [
    "#lr\n",
    "lr = LogisticRegression(C = 0.01, penalty = 'l2')\n",
    "lr.fit(X_train, y_train)\n",
    "model_metrics(lr, X_train, X_test, y_train, y_test)"
   ]
  },
  {
   "cell_type": "code",
   "execution_count": 6,
   "metadata": {},
   "outputs": [
    {
     "name": "stdout",
     "output_type": "stream",
     "text": [
      "[准确率] 训练集： 0.7926 测试集： 0.7744\n",
      "[auc值] 训练集： 0.8082 测试集： 0.7884\n"
     ]
    }
   ],
   "source": [
    "#svm_linear\n",
    "svm_linear = svm.SVC(C = 0.01, kernel = 'linear', probability=True)\n",
    "svm_linear.fit(X_train, y_train)\n",
    "model_metrics(svm_linear, X_train, X_test, y_train, y_test)"
   ]
  },
  {
   "cell_type": "code",
   "execution_count": 7,
   "metadata": {},
   "outputs": [
    {
     "name": "stdout",
     "output_type": "stream",
     "text": [
      "[准确率] 训练集： 0.7890 测试集： 0.7687\n",
      "[auc值] 训练集： 0.7885 测试集： 0.7310\n"
     ]
    }
   ],
   "source": [
    "#DT\n",
    "dt = DecisionTreeClassifier(max_depth=5,min_samples_split=140,min_samples_leaf=60,max_features='sqrt', random_state =2018)\n",
    "dt.fit(X_train, y_train)\n",
    "model_metrics(dt, X_train, X_test, y_train, y_test)"
   ]
  },
  {
   "cell_type": "code",
   "execution_count": 8,
   "metadata": {},
   "outputs": [
    {
     "name": "stdout",
     "output_type": "stream",
     "text": [
      "袋外分数： 0.7935076645626691\n",
      "[准确率] 训练集： 0.8206 测试集： 0.7821\n",
      "[auc值] 训练集： 0.8829 测试集： 0.7782\n"
     ]
    }
   ],
   "source": [
    "#rf\n",
    "rf = RandomForestClassifier(n_estimators=120, max_depth=8, min_samples_split=30,\n",
    "                            min_samples_leaf=20, max_features = 'sqrt',oob_score=True, random_state=2018)\n",
    "rf.fit(X_train, y_train)\n",
    "print('袋外分数：', rf.oob_score_)\n",
    "model_metrics(rf, X_train, X_test, y_train, y_test)"
   ]
  },
  {
   "cell_type": "code",
   "execution_count": 9,
   "metadata": {},
   "outputs": [
    {
     "name": "stdout",
     "output_type": "stream",
     "text": [
      "[准确率] 训练集： 0.8224 测试集： 0.7877\n",
      "[auc值] 训练集： 0.8490 测试集： 0.7801\n"
     ]
    }
   ],
   "source": [
    "#xgboost\n",
    "xgb = XGBClassifier(learning_rate =0.1, n_estimators=40, max_depth=3, \n",
    "                                                  min_child_weight=11, gamma=0.0, subsample=0.8, reg_alpha=1e-05,\n",
    "                                                  colsample_bytree=0.8, objective= 'binary:logistic', \n",
    "                                                  nthread=4,scale_pos_weight=1, seed=27)\n",
    "xgb.fit(X_train, y_train)\n",
    "\n",
    "model_metrics(xgb, X_train, X_test, y_train, y_test)"
   ]
  },
  {
   "cell_type": "markdown",
   "metadata": {},
   "source": [
    "### 开始融合\n"
   ]
  },
  {
   "cell_type": "code",
   "execution_count": 10,
   "metadata": {},
   "outputs": [],
   "source": [
    "#选择默认参数下的lr为基学习器\n",
    "LR = LogisticRegression()"
   ]
  },
  {
   "cell_type": "code",
   "execution_count": 12,
   "metadata": {},
   "outputs": [
    {
     "name": "stdout",
     "output_type": "stream",
     "text": [
      "[准确率] 训练集： 0.8164 测试集： 0.7849\n",
      "[auc值] 训练集： 0.7157 测试集： 0.6679\n"
     ]
    }
   ],
   "source": [
    "from mlxtend.classifier import StackingCVClassifier\n",
    "sclf = StackingCVClassifier(classifiers=[svm_linear, xgb, dt, lr, rf], \n",
    "                            meta_classifier=LR\n",
    "                           # , use_probas=True\n",
    "                           )\n",
    "sclf.fit(X_train, y_train)\n",
    "model_metrics(sclf, X_train, X_test, y_train, y_test)"
   ]
  },
  {
   "cell_type": "code",
   "execution_count": 13,
   "metadata": {},
   "outputs": [
    {
     "name": "stdout",
     "output_type": "stream",
     "text": [
      "[准确率] 训练集： 0.8124 测试集： 0.7856\n",
      "[auc值] 训练集： 0.8342 测试集： 0.7878\n"
     ]
    }
   ],
   "source": [
    "from mlxtend.classifier import StackingCVClassifier\n",
    "sclf = StackingCVClassifier(classifiers=[svm_linear, xgb, dt, lr, rf], \n",
    "                            meta_classifier=LR\n",
    "                            , use_probas=True\n",
    "                           )\n",
    "sclf.fit(X_train, y_train)\n",
    "model_metrics(sclf, X_train, X_test, y_train, y_test)"
   ]
  },
  {
   "cell_type": "markdown",
   "metadata": {},
   "source": [
    "融合之前，最好的svm_linear:0.7744/0.7884 ---> 0.7856/0.7878"
   ]
  }
 ],
 "metadata": {
  "kernelspec": {
   "display_name": "Python 3",
   "language": "python",
   "name": "python3"
  },
  "language_info": {
   "codemirror_mode": {
    "name": "ipython",
    "version": 3
   },
   "file_extension": ".py",
   "mimetype": "text/x-python",
   "name": "python",
   "nbconvert_exporter": "python",
   "pygments_lexer": "ipython3",
   "version": "3.7.3"
  }
 },
 "nbformat": 4,
 "nbformat_minor": 2
}
